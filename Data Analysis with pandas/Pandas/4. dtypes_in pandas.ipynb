{
 "cells": [
  {
   "cell_type": "markdown",
   "id": "31f02f49",
   "metadata": {},
   "source": [
    "# Data Types in Pandas"
   ]
  },
  {
   "cell_type": "markdown",
   "id": "f042284e",
   "metadata": {},
   "source": [
    "- Data Types is one of the first things we should look at after loading the data.\n",
    "- pandas never detect the correct data type for all the columns of the imported dataset.\n",
    "- we should check data types and ensure these are of correct types otherwise we may get unexpected results or errors. \n",
    "- Pandas offer a range of methods to easily convert the column data types.\n"
   ]
  },
  {
   "cell_type": "markdown",
   "id": "c11ba49f",
   "metadata": {},
   "source": [
    "**Data types in pandas**\n",
    "- `object(str)`-Text or mixed numeric and non-numeric\n",
    "- `int64`- Integer numbers\n",
    "- `float`- Floating point numbers\n",
    "- `bool`- True/False values\n",
    "- `datetime64,datetime,datetime.timedelta`- datetimeDate and time values"
   ]
  },
  {
   "cell_type": "code",
   "execution_count": 2,
   "id": "0b58f4a0",
   "metadata": {},
   "outputs": [],
   "source": [
    "import pandas as pd\n",
    "import warnings\n",
    "warnings.filterwarnings(\"ignore\")\n"
   ]
  },
  {
   "cell_type": "markdown",
   "id": "e38fc0f3",
   "metadata": {},
   "source": [
    "### To check the data types of the columns in your DataFrame, pandas has some methods."
   ]
  },
  {
   "cell_type": "markdown",
   "id": "5b11e13c",
   "metadata": {},
   "source": [
    "- **df.dtypes- Returns a series with the datatypes of each column in the dataframe.**"
   ]
  },
  {
   "cell_type": "code",
   "execution_count": 3,
   "id": "c5919492",
   "metadata": {},
   "outputs": [
    {
     "data": {
      "text/html": [
       "<div>\n",
       "<style scoped>\n",
       "    .dataframe tbody tr th:only-of-type {\n",
       "        vertical-align: middle;\n",
       "    }\n",
       "\n",
       "    .dataframe tbody tr th {\n",
       "        vertical-align: top;\n",
       "    }\n",
       "\n",
       "    .dataframe thead th {\n",
       "        text-align: right;\n",
       "    }\n",
       "</style>\n",
       "<table border=\"1\" class=\"dataframe\">\n",
       "  <thead>\n",
       "    <tr style=\"text-align: right;\">\n",
       "      <th></th>\n",
       "      <th>Car</th>\n",
       "      <th>Color</th>\n",
       "      <th>Year</th>\n",
       "      <th>Rating</th>\n",
       "      <th>Service</th>\n",
       "    </tr>\n",
       "  </thead>\n",
       "  <tbody>\n",
       "    <tr>\n",
       "      <th>0</th>\n",
       "      <td>BMW</td>\n",
       "      <td>Red</td>\n",
       "      <td>1990</td>\n",
       "      <td>2.5</td>\n",
       "      <td>30/04/2023</td>\n",
       "    </tr>\n",
       "    <tr>\n",
       "      <th>1</th>\n",
       "      <td>ALTO</td>\n",
       "      <td>Yellow</td>\n",
       "      <td>1980</td>\n",
       "      <td>1.5</td>\n",
       "      <td>31/08/1999</td>\n",
       "    </tr>\n",
       "    <tr>\n",
       "      <th>2</th>\n",
       "      <td>AUDI</td>\n",
       "      <td>Black</td>\n",
       "      <td>2003</td>\n",
       "      <td>3.8</td>\n",
       "      <td>28/12/2015</td>\n",
       "    </tr>\n",
       "    <tr>\n",
       "      <th>3</th>\n",
       "      <td>MARUTI</td>\n",
       "      <td>Green</td>\n",
       "      <td>2000</td>\n",
       "      <td>9.7</td>\n",
       "      <td>29/06/2011</td>\n",
       "    </tr>\n",
       "    <tr>\n",
       "      <th>4</th>\n",
       "      <td>HONDA</td>\n",
       "      <td>Black</td>\n",
       "      <td>2001</td>\n",
       "      <td>8.9</td>\n",
       "      <td>30/12/2020</td>\n",
       "    </tr>\n",
       "  </tbody>\n",
       "</table>\n",
       "</div>"
      ],
      "text/plain": [
       "      Car   Color  Year Rating     Service\n",
       "0     BMW     Red  1990    2.5  30/04/2023\n",
       "1    ALTO  Yellow  1980    1.5  31/08/1999\n",
       "2    AUDI   Black  2003    3.8  28/12/2015\n",
       "3  MARUTI   Green  2000    9.7  29/06/2011\n",
       "4   HONDA   Black  2001    8.9  30/12/2020"
      ]
     },
     "execution_count": 3,
     "metadata": {},
     "output_type": "execute_result"
    }
   ],
   "source": [
    "\n",
    "\n",
    "data = {\"Car\": [\"BMW\", \"ALTO\", \"AUDI\",\"MARUTI\", \"HONDA\", \"HYUNDAI\", \"FORD\", \"KIA\"],\\\n",
    "     \"Color\": [\"Red\", \"Yellow\", \"Black\", \"Green\", \"Black\", \"Red\", \"Black\", \"Black\"],\\\n",
    "     \"Year\": [\"1990\", \"1980\", \"2003\", \"2000\", \"2001\", \"2004\", \"1999\", \"2020\"],\\\n",
    "     \"Rating\": [\"2.5\", \"1.5\", \"3.8\", \"9.7\", \"8.9\", \"3.2\", \"5.5\", \"6.9\"],\\\n",
    "     \"Service\": [\"30/04/2023\", \"31/08/1999\", \"28/12/2015\", \"29/06/2011\",\\\n",
    "                 \"30/12/2020\", \"31/07/2013\", \"28/11/2000\", \"25/12/2020\"]}\n",
    "df = pd.DataFrame(data)\n",
    "df.head()"
   ]
  },
  {
   "cell_type": "code",
   "execution_count": 4,
   "id": "ce6a1217",
   "metadata": {
    "scrolled": false
   },
   "outputs": [
    {
     "data": {
      "text/plain": [
       "Car        object\n",
       "Color      object\n",
       "Year       object\n",
       "Rating     object\n",
       "Service    object\n",
       "dtype: object"
      ]
     },
     "execution_count": 4,
     "metadata": {},
     "output_type": "execute_result"
    }
   ],
   "source": [
    "df.dtypes    #here we got all columns data types "
   ]
  },
  {
   "cell_type": "markdown",
   "id": "3f921502",
   "metadata": {},
   "source": [
    "- In the above DataFrame we have 5 columns(Car,Color,Year,Rating,Service)\n",
    "- lets change the datatype of those columns to correct types"
   ]
  },
  {
   "cell_type": "markdown",
   "id": "6d439540",
   "metadata": {},
   "source": [
    "**Correct data types of these columns would be**\n",
    "- Car    -    object\n",
    "- Color  -    object\n",
    "- Year   -    int\n",
    "- Rating  -   float\n",
    "- Service   - datetime"
   ]
  },
  {
   "cell_type": "markdown",
   "id": "546b7933",
   "metadata": {},
   "source": [
    "### To change the data types of columns, Pandas offer a range of methods to easily convert the column data types."
   ]
  },
  {
   "cell_type": "markdown",
   "id": "47394e3d",
   "metadata": {},
   "source": [
    "**df.col_name.astype() - Converting datatype of a particular column.**"
   ]
  },
  {
   "cell_type": "code",
   "execution_count": 5,
   "id": "8064d92b",
   "metadata": {},
   "outputs": [
    {
     "data": {
      "text/plain": [
       "0    1990\n",
       "1    1980\n",
       "2    2003\n",
       "3    2000\n",
       "4    2001\n",
       "5    2004\n",
       "6    1999\n",
       "7    2020\n",
       "Name: Year, dtype: int32"
      ]
     },
     "execution_count": 5,
     "metadata": {},
     "output_type": "execute_result"
    }
   ],
   "source": [
    "df[\"Year\"].astype(\"int\")"
   ]
  },
  {
   "cell_type": "code",
   "execution_count": 9,
   "id": "07aa8ec6",
   "metadata": {},
   "outputs": [],
   "source": [
    " df[\"Year\"]= df[\"Year\"].astype(\"int\")"
   ]
  },
  {
   "cell_type": "code",
   "execution_count": 10,
   "id": "3ac06b71",
   "metadata": {
    "scrolled": true
   },
   "outputs": [
    {
     "data": {
      "text/plain": [
       "Car        object\n",
       "Color      object\n",
       "Year        int32\n",
       "Rating     object\n",
       "Service    object\n",
       "dtype: object"
      ]
     },
     "execution_count": 10,
     "metadata": {},
     "output_type": "execute_result"
    }
   ],
   "source": [
    "df.dtypes"
   ]
  },
  {
   "cell_type": "code",
   "execution_count": 12,
   "id": "86af1e7f",
   "metadata": {},
   "outputs": [],
   "source": [
    "df[\"Rating\"]= df[\"Rating\"].astype(\"float\")"
   ]
  },
  {
   "cell_type": "code",
   "execution_count": 14,
   "id": "8e6a5271",
   "metadata": {},
   "outputs": [
    {
     "data": {
      "text/plain": [
       "Car         object\n",
       "Color       object\n",
       "Year         int32\n",
       "Rating     float64\n",
       "Service     object\n",
       "dtype: object"
      ]
     },
     "execution_count": 14,
     "metadata": {},
     "output_type": "execute_result"
    }
   ],
   "source": [
    "df.dtypes"
   ]
  },
  {
   "cell_type": "markdown",
   "id": "ae47b7d2",
   "metadata": {},
   "source": [
    "**pd.to_numeric()**- This method is used to convert the data type of the column to the numerical one. As a result, the float64 or int64 will be returned as the new data type of the column based on the values in the column."
   ]
  },
  {
   "cell_type": "code",
   "execution_count": 15,
   "id": "42571135",
   "metadata": {
    "scrolled": true
   },
   "outputs": [
    {
     "data": {
      "text/html": [
       "<div>\n",
       "<style scoped>\n",
       "    .dataframe tbody tr th:only-of-type {\n",
       "        vertical-align: middle;\n",
       "    }\n",
       "\n",
       "    .dataframe tbody tr th {\n",
       "        vertical-align: top;\n",
       "    }\n",
       "\n",
       "    .dataframe thead th {\n",
       "        text-align: right;\n",
       "    }\n",
       "</style>\n",
       "<table border=\"1\" class=\"dataframe\">\n",
       "  <thead>\n",
       "    <tr style=\"text-align: right;\">\n",
       "      <th></th>\n",
       "      <th>Car</th>\n",
       "      <th>Color</th>\n",
       "      <th>Year</th>\n",
       "      <th>Rating</th>\n",
       "      <th>Service</th>\n",
       "    </tr>\n",
       "  </thead>\n",
       "  <tbody>\n",
       "    <tr>\n",
       "      <th>0</th>\n",
       "      <td>BMW</td>\n",
       "      <td>Red</td>\n",
       "      <td>1990</td>\n",
       "      <td>2.5</td>\n",
       "      <td>30/04/2023</td>\n",
       "    </tr>\n",
       "    <tr>\n",
       "      <th>1</th>\n",
       "      <td>ALTO</td>\n",
       "      <td>Yellow</td>\n",
       "      <td>1980</td>\n",
       "      <td>1.5</td>\n",
       "      <td>31/08/1999</td>\n",
       "    </tr>\n",
       "    <tr>\n",
       "      <th>2</th>\n",
       "      <td>AUDI</td>\n",
       "      <td>Black</td>\n",
       "      <td>2003</td>\n",
       "      <td>3.8</td>\n",
       "      <td>28/12/2015</td>\n",
       "    </tr>\n",
       "    <tr>\n",
       "      <th>3</th>\n",
       "      <td>MARUTI</td>\n",
       "      <td>Green</td>\n",
       "      <td>2000</td>\n",
       "      <td>9.7</td>\n",
       "      <td>29/06/2011</td>\n",
       "    </tr>\n",
       "    <tr>\n",
       "      <th>4</th>\n",
       "      <td>HONDA</td>\n",
       "      <td>Black</td>\n",
       "      <td>2001</td>\n",
       "      <td>8.9</td>\n",
       "      <td>30/12/2020</td>\n",
       "    </tr>\n",
       "  </tbody>\n",
       "</table>\n",
       "</div>"
      ],
      "text/plain": [
       "      Car   Color  Year Rating     Service\n",
       "0     BMW     Red  1990    2.5  30/04/2023\n",
       "1    ALTO  Yellow  1980    1.5  31/08/1999\n",
       "2    AUDI   Black  2003    3.8  28/12/2015\n",
       "3  MARUTI   Green  2000    9.7  29/06/2011\n",
       "4   HONDA   Black  2001    8.9  30/12/2020"
      ]
     },
     "execution_count": 15,
     "metadata": {},
     "output_type": "execute_result"
    }
   ],
   "source": [
    "data = {\"Car\": [\"BMW\", \"ALTO\", \"AUDI\",\"MARUTI\", \"HONDA\", \"HYUNDAI\", \"FORD\", \"KIA\"],\\\n",
    "     \"Color\": [\"Red\", \"Yellow\", \"Black\", \"Green\", \"Black\", \"Red\", \"Black\", \"Black\"],\\\n",
    "     \"Year\": [\"1990\", \"1980\", \"2003\", \"2000\", \"2001\", \"2004\", \"1999\", \"2020\"],\\\n",
    "     \"Rating\": [\"2.5\", \"1.5\", \"3.8\", \"9.7\", \"8.9\", \"3.2\", \"5.5\", \"6.9\"],\\\n",
    "     \"Service\": [\"30/04/2023\", \"31/08/1999\", \"28/12/2015\", \"29/06/2011\",\\\n",
    "                 \"30/12/2020\", \"31/07/2013\", \"28/11/2000\", \"25/12/2020\"]}\n",
    "df1= pd.DataFrame(data)\n",
    "df1.head()"
   ]
  },
  {
   "cell_type": "code",
   "execution_count": 17,
   "id": "06ca102b",
   "metadata": {},
   "outputs": [
    {
     "data": {
      "text/plain": [
       "Car        object\n",
       "Color      object\n",
       "Year       object\n",
       "Rating     object\n",
       "Service    object\n",
       "dtype: object"
      ]
     },
     "execution_count": 17,
     "metadata": {},
     "output_type": "execute_result"
    }
   ],
   "source": [
    "df1.dtypes"
   ]
  },
  {
   "cell_type": "code",
   "execution_count": 18,
   "id": "71abdc48",
   "metadata": {},
   "outputs": [],
   "source": [
    "df1[\"Year\"]=pd.to_numeric(df1[\"Year\"])   #Based on the values in the column it coverted into \"int\""
   ]
  },
  {
   "cell_type": "code",
   "execution_count": 20,
   "id": "c2892f45",
   "metadata": {},
   "outputs": [],
   "source": [
    "df1[\"Rating\"]=pd.to_numeric(df1[\"Rating\"])   #Based on the values in the column it coverted into \"float\""
   ]
  },
  {
   "cell_type": "code",
   "execution_count": 21,
   "id": "c7fbe005",
   "metadata": {},
   "outputs": [
    {
     "data": {
      "text/plain": [
       "Car         object\n",
       "Color       object\n",
       "Year         int64\n",
       "Rating     float64\n",
       "Service     object\n",
       "dtype: object"
      ]
     },
     "execution_count": 21,
     "metadata": {},
     "output_type": "execute_result"
    }
   ],
   "source": [
    "df1.dtypes"
   ]
  },
  {
   "cell_type": "markdown",
   "id": "c9cad6c5",
   "metadata": {},
   "source": [
    "**pd.to_datetime()**- Here the column gets converted to the DateTime data type. This method accepts 10 optional arguments to help you to decide how to parse the dates.\n",
    "\n"
   ]
  },
  {
   "cell_type": "code",
   "execution_count": 27,
   "id": "45720f43",
   "metadata": {
    "scrolled": true
   },
   "outputs": [
    {
     "data": {
      "text/plain": [
       "0   2023-04-30\n",
       "1   1999-08-31\n",
       "2   2015-12-28\n",
       "3   2011-06-29\n",
       "4   2020-12-30\n",
       "5   2013-07-31\n",
       "6   2000-11-28\n",
       "7   2020-12-25\n",
       "Name: Service, dtype: datetime64[ns]"
      ]
     },
     "execution_count": 27,
     "metadata": {},
     "output_type": "execute_result"
    }
   ],
   "source": [
    "pd.to_datetime(df1[\"Service\"])"
   ]
  },
  {
   "cell_type": "markdown",
   "id": "9234f162",
   "metadata": {},
   "source": [
    "**Changing multiple columns data types at once**- ust pass the dictionary of column name & data type pairs to **df.col_name.astype()** method "
   ]
  },
  {
   "cell_type": "code",
   "execution_count": 28,
   "id": "db633928",
   "metadata": {
    "scrolled": true
   },
   "outputs": [
    {
     "data": {
      "text/html": [
       "<div>\n",
       "<style scoped>\n",
       "    .dataframe tbody tr th:only-of-type {\n",
       "        vertical-align: middle;\n",
       "    }\n",
       "\n",
       "    .dataframe tbody tr th {\n",
       "        vertical-align: top;\n",
       "    }\n",
       "\n",
       "    .dataframe thead th {\n",
       "        text-align: right;\n",
       "    }\n",
       "</style>\n",
       "<table border=\"1\" class=\"dataframe\">\n",
       "  <thead>\n",
       "    <tr style=\"text-align: right;\">\n",
       "      <th></th>\n",
       "      <th>Car</th>\n",
       "      <th>Color</th>\n",
       "      <th>Year</th>\n",
       "      <th>Rating</th>\n",
       "      <th>Service</th>\n",
       "    </tr>\n",
       "  </thead>\n",
       "  <tbody>\n",
       "    <tr>\n",
       "      <th>0</th>\n",
       "      <td>BMW</td>\n",
       "      <td>Red</td>\n",
       "      <td>1990</td>\n",
       "      <td>2.5</td>\n",
       "      <td>30/04/2023</td>\n",
       "    </tr>\n",
       "    <tr>\n",
       "      <th>1</th>\n",
       "      <td>ALTO</td>\n",
       "      <td>Yellow</td>\n",
       "      <td>1980</td>\n",
       "      <td>1.5</td>\n",
       "      <td>31/08/1999</td>\n",
       "    </tr>\n",
       "    <tr>\n",
       "      <th>2</th>\n",
       "      <td>AUDI</td>\n",
       "      <td>Black</td>\n",
       "      <td>2003</td>\n",
       "      <td>3.8</td>\n",
       "      <td>28/12/2015</td>\n",
       "    </tr>\n",
       "    <tr>\n",
       "      <th>3</th>\n",
       "      <td>MARUTI</td>\n",
       "      <td>Green</td>\n",
       "      <td>2000</td>\n",
       "      <td>9.7</td>\n",
       "      <td>29/06/2011</td>\n",
       "    </tr>\n",
       "    <tr>\n",
       "      <th>4</th>\n",
       "      <td>HONDA</td>\n",
       "      <td>Black</td>\n",
       "      <td>2001</td>\n",
       "      <td>8.9</td>\n",
       "      <td>30/12/2020</td>\n",
       "    </tr>\n",
       "  </tbody>\n",
       "</table>\n",
       "</div>"
      ],
      "text/plain": [
       "      Car   Color  Year Rating     Service\n",
       "0     BMW     Red  1990    2.5  30/04/2023\n",
       "1    ALTO  Yellow  1980    1.5  31/08/1999\n",
       "2    AUDI   Black  2003    3.8  28/12/2015\n",
       "3  MARUTI   Green  2000    9.7  29/06/2011\n",
       "4   HONDA   Black  2001    8.9  30/12/2020"
      ]
     },
     "execution_count": 28,
     "metadata": {},
     "output_type": "execute_result"
    }
   ],
   "source": [
    "data = {\"Car\": [\"BMW\", \"ALTO\", \"AUDI\",\"MARUTI\", \"HONDA\", \"HYUNDAI\", \"FORD\", \"KIA\"],\\\n",
    "     \"Color\": [\"Red\", \"Yellow\", \"Black\", \"Green\", \"Black\", \"Red\", \"Black\", \"Black\"],\\\n",
    "     \"Year\": [\"1990\", \"1980\", \"2003\", \"2000\", \"2001\", \"2004\", \"1999\", \"2020\"],\\\n",
    "     \"Rating\": [\"2.5\", \"1.5\", \"3.8\", \"9.7\", \"8.9\", \"3.2\", \"5.5\", \"6.9\"],\\\n",
    "     \"Service\": [\"30/04/2023\", \"31/08/1999\", \"28/12/2015\", \"29/06/2011\",\\\n",
    "                 \"30/12/2020\", \"31/07/2013\", \"28/11/2000\", \"25/12/2020\"]}\n",
    "df2= pd.DataFrame(data)\n",
    "df2.head()"
   ]
  },
  {
   "cell_type": "code",
   "execution_count": 29,
   "id": "a84621dc",
   "metadata": {},
   "outputs": [
    {
     "data": {
      "text/plain": [
       "Car        object\n",
       "Color      object\n",
       "Year       object\n",
       "Rating     object\n",
       "Service    object\n",
       "dtype: object"
      ]
     },
     "execution_count": 29,
     "metadata": {},
     "output_type": "execute_result"
    }
   ],
   "source": [
    "df2.dtypes"
   ]
  },
  {
   "cell_type": "code",
   "execution_count": 34,
   "id": "d00fd4a0",
   "metadata": {},
   "outputs": [
    {
     "data": {
      "text/plain": [
       "0   2023-04-30\n",
       "1   1999-08-31\n",
       "2   2015-12-28\n",
       "3   2011-06-29\n",
       "4   2020-12-30\n",
       "5   2013-07-31\n",
       "6   2000-11-28\n",
       "7   2020-12-25\n",
       "Name: Service, dtype: datetime64[ns]"
      ]
     },
     "execution_count": 34,
     "metadata": {},
     "output_type": "execute_result"
    }
   ],
   "source": [
    "df2[\"Service\"].astype(\"datetime64\")"
   ]
  },
  {
   "cell_type": "code",
   "execution_count": 36,
   "id": "85943c38",
   "metadata": {},
   "outputs": [],
   "source": [
    "df2=df2.astype({\"Year\":\"int\",\"Rating\":\"float\",\"Service\":\"datetime64\"})"
   ]
  },
  {
   "cell_type": "code",
   "execution_count": 37,
   "id": "774873f7",
   "metadata": {
    "scrolled": true
   },
   "outputs": [
    {
     "data": {
      "text/plain": [
       "Car                object\n",
       "Color              object\n",
       "Year                int32\n",
       "Rating            float64\n",
       "Service    datetime64[ns]\n",
       "dtype: object"
      ]
     },
     "execution_count": 37,
     "metadata": {},
     "output_type": "execute_result"
    }
   ],
   "source": [
    "df2.dtypes"
   ]
  },
  {
   "cell_type": "markdown",
   "id": "919e8f87",
   "metadata": {},
   "source": [
    "<font color='green' > **pd.df.convert_dtypes() - This method will automatically detect the best suitable data type for the given column. By default, all the columns with Dtypes as object will be converted to strings.** </font>."
   ]
  },
  {
   "cell_type": "markdown",
   "id": "6d566c77",
   "metadata": {},
   "source": [
    "**pd.df.convert_dtypes()**- This method will automatically detect the best suitable data type for the given column. By default, all the columns with Dtypes as object will be converted to strings."
   ]
  },
  {
   "cell_type": "code",
   "execution_count": 44,
   "id": "75bb81af",
   "metadata": {
    "scrolled": true
   },
   "outputs": [
    {
     "data": {
      "text/html": [
       "<div>\n",
       "<style scoped>\n",
       "    .dataframe tbody tr th:only-of-type {\n",
       "        vertical-align: middle;\n",
       "    }\n",
       "\n",
       "    .dataframe tbody tr th {\n",
       "        vertical-align: top;\n",
       "    }\n",
       "\n",
       "    .dataframe thead th {\n",
       "        text-align: right;\n",
       "    }\n",
       "</style>\n",
       "<table border=\"1\" class=\"dataframe\">\n",
       "  <thead>\n",
       "    <tr style=\"text-align: right;\">\n",
       "      <th></th>\n",
       "      <th>Car</th>\n",
       "      <th>Color</th>\n",
       "      <th>Year</th>\n",
       "      <th>Rating</th>\n",
       "      <th>Service</th>\n",
       "    </tr>\n",
       "  </thead>\n",
       "  <tbody>\n",
       "    <tr>\n",
       "      <th>0</th>\n",
       "      <td>BMW</td>\n",
       "      <td>Red</td>\n",
       "      <td>1990</td>\n",
       "      <td>2.5</td>\n",
       "      <td>30/04/2023</td>\n",
       "    </tr>\n",
       "    <tr>\n",
       "      <th>1</th>\n",
       "      <td>ALTO</td>\n",
       "      <td>Yellow</td>\n",
       "      <td>1980</td>\n",
       "      <td>1.5</td>\n",
       "      <td>31/08/1999</td>\n",
       "    </tr>\n",
       "    <tr>\n",
       "      <th>2</th>\n",
       "      <td>AUDI</td>\n",
       "      <td>Black</td>\n",
       "      <td>2003</td>\n",
       "      <td>3.8</td>\n",
       "      <td>28/12/2015</td>\n",
       "    </tr>\n",
       "    <tr>\n",
       "      <th>3</th>\n",
       "      <td>MARUTI</td>\n",
       "      <td>Green</td>\n",
       "      <td>2000</td>\n",
       "      <td>9.7</td>\n",
       "      <td>29/06/2011</td>\n",
       "    </tr>\n",
       "    <tr>\n",
       "      <th>4</th>\n",
       "      <td>HONDA</td>\n",
       "      <td>Black</td>\n",
       "      <td>2001</td>\n",
       "      <td>8.9</td>\n",
       "      <td>30/12/2020</td>\n",
       "    </tr>\n",
       "  </tbody>\n",
       "</table>\n",
       "</div>"
      ],
      "text/plain": [
       "      Car   Color  Year Rating     Service\n",
       "0     BMW     Red  1990    2.5  30/04/2023\n",
       "1    ALTO  Yellow  1980    1.5  31/08/1999\n",
       "2    AUDI   Black  2003    3.8  28/12/2015\n",
       "3  MARUTI   Green  2000    9.7  29/06/2011\n",
       "4   HONDA   Black  2001    8.9  30/12/2020"
      ]
     },
     "execution_count": 44,
     "metadata": {},
     "output_type": "execute_result"
    }
   ],
   "source": [
    "data = {\"Car\": [\"BMW\", \"ALTO\", \"AUDI\",\"MARUTI\", \"HONDA\", \"HYUNDAI\", \"FORD\", \"KIA\"],\\\n",
    "     \"Color\": [\"Red\", \"Yellow\", \"Black\", \"Green\", \"Black\", \"Red\", \"Black\", \"Black\"],\\\n",
    "     \"Year\": [\"1990\", \"1980\", \"2003\", \"2000\", \"2001\", \"2004\", \"1999\", \"2020\"],\\\n",
    "     \"Rating\": [\"2.5\", \"1.5\", \"3.8\", \"9.7\", \"8.9\", \"3.2\", \"5.5\", \"6.9\"],\\\n",
    "     \"Service\": [\"30/04/2023\", \"31/08/1999\", \"28/12/2015\", \"29/06/2011\",\\\n",
    "                 \"30/12/2020\", \"31/07/2013\", \"28/11/2000\", \"25/12/2020\"]}\n",
    "df3= pd.DataFrame(data)\n",
    "df3.head()"
   ]
  },
  {
   "cell_type": "code",
   "execution_count": 45,
   "id": "d56c8a39",
   "metadata": {},
   "outputs": [
    {
     "data": {
      "text/plain": [
       "Car        object\n",
       "Color      object\n",
       "Year       object\n",
       "Rating     object\n",
       "Service    object\n",
       "dtype: object"
      ]
     },
     "execution_count": 45,
     "metadata": {},
     "output_type": "execute_result"
    }
   ],
   "source": [
    "df3.dtypes"
   ]
  },
  {
   "cell_type": "code",
   "execution_count": 41,
   "id": "d02516bd",
   "metadata": {},
   "outputs": [],
   "source": [
    "df3=df3.convert_dtypes()"
   ]
  },
  {
   "cell_type": "code",
   "execution_count": 43,
   "id": "c60e98a1",
   "metadata": {},
   "outputs": [
    {
     "data": {
      "text/plain": [
       "Car        string\n",
       "Color      string\n",
       "Year       string\n",
       "Rating     string\n",
       "Service    string\n",
       "dtype: object"
      ]
     },
     "execution_count": 43,
     "metadata": {},
     "output_type": "execute_result"
    }
   ],
   "source": [
    "df3.dtypes"
   ]
  },
  {
   "cell_type": "code",
   "execution_count": null,
   "id": "2afa1c18",
   "metadata": {},
   "outputs": [],
   "source": []
  },
  {
   "cell_type": "code",
   "execution_count": null,
   "id": "3ddd5046",
   "metadata": {},
   "outputs": [],
   "source": []
  }
 ],
 "metadata": {
  "kernelspec": {
   "display_name": "Python 3 (ipykernel)",
   "language": "python",
   "name": "python3"
  },
  "language_info": {
   "codemirror_mode": {
    "name": "ipython",
    "version": 3
   },
   "file_extension": ".py",
   "mimetype": "text/x-python",
   "name": "python",
   "nbconvert_exporter": "python",
   "pygments_lexer": "ipython3",
   "version": "3.9.13"
  }
 },
 "nbformat": 4,
 "nbformat_minor": 5
}
