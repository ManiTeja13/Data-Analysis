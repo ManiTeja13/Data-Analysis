{
 "cells": [
  {
   "cell_type": "markdown",
   "id": "0916478a",
   "metadata": {},
   "source": [
    "## Introduction\n",
    "**What is Pandas?**\n",
    "\n",
    "- Pandas is an extremely popular library built upon Numpy, for `handling tabular data, data manipulation and analysis.` \n",
    "\n",
    "- Probably the best thing about Pandas is that it stores data as a Python object with rows and columns, very similar to data stored in Excel files. Also, this way we can easily visualize our data, making our job a lot easier then handling data in form of lists or dictionaries.\n",
    "\n",
    "- It is built on the Numpy package and its key data structure is called the **`DataFrame`** also the advantage over` Numpy is that it handles multiple data types (i.e., strings), not only numerical data, although this makes it slower in comparison to Numpy.\n"
   ]
  },
  {
   "cell_type": "markdown",
   "id": "6ef0801f",
   "metadata": {},
   "source": [
    "**How to install Pandas?**"
   ]
  },
  {
   "cell_type": "markdown",
   "id": "43f7adff",
   "metadata": {},
   "source": [
    "- if using Anaconda, Pandas is preinstalled in the base environment.\n",
    "\n",
    "- if you want to install pandas, the syntax would be as following."
   ]
  },
  {
   "cell_type": "markdown",
   "id": "0031acc7",
   "metadata": {},
   "source": [
    "```conda install pandas   \n",
    "pip install pandas   \n",
    "pip install pandas```"
   ]
  },
  {
   "cell_type": "markdown",
   "id": "a5c1a408",
   "metadata": {},
   "source": [
    "**How to import Pandas?**"
   ]
  },
  {
   "cell_type": "code",
   "execution_count": 3,
   "id": "5dd4d03a",
   "metadata": {},
   "outputs": [],
   "source": [
    "# import pandas, pd is an alias\n",
    "import pandas as pd"
   ]
  },
  {
   "cell_type": "code",
   "execution_count": 4,
   "id": "65699080",
   "metadata": {},
   "outputs": [
    {
     "name": "stdout",
     "output_type": "stream",
     "text": [
      "1.4.4\n"
     ]
    }
   ],
   "source": [
    "#Checking the version of Pandas\n",
    "print(pd.__version__)"
   ]
  },
  {
   "cell_type": "markdown",
   "id": "5e7b82a8",
   "metadata": {},
   "source": [
    "- Main data structures in Pandas\n",
    "    -   **Data Series** - like a `column in a table`. It is a\n",
    "        one-dimensional array holding data of any type.\n",
    "    -   **Data Frame** - tabular data with multiple rows and columns."
   ]
  },
  {
   "cell_type": "markdown",
   "id": "79c310d9",
   "metadata": {},
   "source": [
    "## Series\n",
    "- A series is similar to a 1-D numpy array, and contains scalar values of the same type (numeric, character, datetime etc.). \n",
    "A dataframe is simply a table where each column is a pandas series."
   ]
  },
  {
   "cell_type": "markdown",
   "id": "9c9b91ef",
   "metadata": {},
   "source": [
    "### Creating Pandas Series\n",
    "\n",
    "- Series are one-dimensional array-like structures, though unlike numpy arrays, they often contain non-numeric data (characters, dates, time, booleans etc.)\n",
    "\n",
    "- You can create pandas series from array-like objects using ```pd.Series()```."
   ]
  },
  {
   "cell_type": "markdown",
   "id": "9865311f",
   "metadata": {},
   "source": [
    "- `We use the pd.Series() command, and provide a list,numpy,dictionary`"
   ]
  },
  {
   "cell_type": "markdown",
   "id": "f30269bb",
   "metadata": {},
   "source": [
    "**Creating series from a list**"
   ]
  },
  {
   "cell_type": "code",
   "execution_count": 6,
   "id": "1d18dd91",
   "metadata": {},
   "outputs": [],
   "source": [
    "list1=[100,200,300,400,500]"
   ]
  },
  {
   "cell_type": "code",
   "execution_count": 7,
   "id": "335bd3f5",
   "metadata": {},
   "outputs": [],
   "source": [
    "s1 = pd.Series(list1)"
   ]
  },
  {
   "cell_type": "code",
   "execution_count": 8,
   "id": "b00eef58",
   "metadata": {},
   "outputs": [
    {
     "data": {
      "text/plain": [
       "0    100\n",
       "1    200\n",
       "2    300\n",
       "3    400\n",
       "4    500\n",
       "dtype: int64"
      ]
     },
     "execution_count": 8,
     "metadata": {},
     "output_type": "execute_result"
    }
   ],
   "source": [
    "s1"
   ]
  },
  {
   "cell_type": "code",
   "execution_count": 9,
   "id": "82a2b0d9",
   "metadata": {},
   "outputs": [
    {
     "data": {
      "text/plain": [
       "pandas.core.series.Series"
      ]
     },
     "execution_count": 9,
     "metadata": {},
     "output_type": "execute_result"
    }
   ],
   "source": [
    "type(s1)"
   ]
  },
  {
   "cell_type": "markdown",
   "id": "9adab3dd",
   "metadata": {},
   "source": [
    "**Creating series from numpy array**"
   ]
  },
  {
   "cell_type": "code",
   "execution_count": 11,
   "id": "e5451e4d",
   "metadata": {},
   "outputs": [],
   "source": [
    "#import numpy, np is an alias\n",
    "import numpy as np"
   ]
  },
  {
   "cell_type": "code",
   "execution_count": 12,
   "id": "48b7c35a",
   "metadata": {},
   "outputs": [
    {
     "name": "stdout",
     "output_type": "stream",
     "text": [
      "[16 36 27 28 20 19 17 20]\n",
      "<class 'numpy.ndarray'>\n"
     ]
    }
   ],
   "source": [
    "# Creating a numpy array\n",
    "arr= np.random.randint(10,40,(8,))\n",
    "print(arr)\n",
    "print(type(arr))"
   ]
  },
  {
   "cell_type": "code",
   "execution_count": 13,
   "id": "d75b70cb",
   "metadata": {},
   "outputs": [
    {
     "name": "stdout",
     "output_type": "stream",
     "text": [
      "0    16\n",
      "1    36\n",
      "2    27\n",
      "3    28\n",
      "4    20\n",
      "5    19\n",
      "6    17\n",
      "7    20\n",
      "dtype: int32\n",
      "<class 'pandas.core.series.Series'>\n"
     ]
    }
   ],
   "source": [
    "s2=pd.Series(arr)\n",
    "print(s2)\n",
    "print(type(s2))"
   ]
  },
  {
   "cell_type": "markdown",
   "id": "d38a30f7",
   "metadata": {},
   "source": [
    "#### Explicitly specifying indices\n",
    "\n",
    "You might have noticed that while creating a series, Pandas automatically indexes it from 0 to (n-1), n being the number of rows. But if we want, we can also explicitly set the index ourselves, using the ‘index’ argument while creating the series using `pd.Series()`"
   ]
  },
  {
   "cell_type": "markdown",
   "id": "85a15ac3",
   "metadata": {},
   "source": [
    "**Creating a Series with the index**"
   ]
  },
  {
   "cell_type": "code",
   "execution_count": 16,
   "id": "4edc9807",
   "metadata": {},
   "outputs": [],
   "source": [
    "s1 = pd.Series(list1,index=['a','b','c','d','e'])   \n",
    "# here length of the values should match the length of the index"
   ]
  },
  {
   "cell_type": "code",
   "execution_count": 17,
   "id": "e893d170",
   "metadata": {},
   "outputs": [
    {
     "data": {
      "text/plain": [
       "a    100\n",
       "b    200\n",
       "c    300\n",
       "d    400\n",
       "e    500\n",
       "dtype: int64"
      ]
     },
     "execution_count": 17,
     "metadata": {},
     "output_type": "execute_result"
    }
   ],
   "source": [
    "s1"
   ]
  },
  {
   "cell_type": "markdown",
   "id": "2091af7c",
   "metadata": {},
   "source": [
    "**Creating a series of characters**\n",
    "- Notice that the 'dtype' of characters is 'object'"
   ]
  },
  {
   "cell_type": "code",
   "execution_count": 18,
   "id": "e426488d",
   "metadata": {},
   "outputs": [
    {
     "data": {
      "text/plain": [
       "0     a\n",
       "1     b\n",
       "2    af\n",
       "dtype: object"
      ]
     },
     "execution_count": 18,
     "metadata": {},
     "output_type": "execute_result"
    }
   ],
   "source": [
    "# creating a series of characters\n",
    "# notice that the 'dtype' here is 'object'\n",
    "char_series = pd.Series(['a', 'b', 'af'])\n",
    "char_series"
   ]
  },
  {
   "cell_type": "markdown",
   "id": "bdcde719",
   "metadata": {},
   "source": [
    "**Creating a series with a dictionary**"
   ]
  },
  {
   "cell_type": "code",
   "execution_count": 19,
   "id": "a01d0c7e",
   "metadata": {},
   "outputs": [],
   "source": [
    "# using dictionary\n",
    "\n",
    "dic1 = {\n",
    "    \n",
    "        \"A\" : \"APPLE\",\n",
    "        \"B\" : \"BAT\",\n",
    "        \"C\" : \"CAR\",\n",
    "        \"D\" : \"DOG\"\n",
    "     \n",
    "}"
   ]
  },
  {
   "cell_type": "code",
   "execution_count": 20,
   "id": "bbb718ca",
   "metadata": {},
   "outputs": [
    {
     "name": "stdout",
     "output_type": "stream",
     "text": [
      "A    APPLE\n",
      "B      BAT\n",
      "C      CAR\n",
      "D      DOG\n",
      "dtype: object\n",
      "<class 'pandas.core.series.Series'>\n"
     ]
    }
   ],
   "source": [
    "ds1 = pd.Series(dic1)\n",
    "print(ds1)\n",
    "print(type(ds1))"
   ]
  },
  {
   "cell_type": "markdown",
   "id": "aee0164a",
   "metadata": {},
   "source": [
    "#### Indexing Series\n",
    "\n",
    "Indexing series is exactly same as 1-D numpy arrays - index starts at 0."
   ]
  },
  {
   "cell_type": "code",
   "execution_count": 24,
   "id": "49942fe7",
   "metadata": {},
   "outputs": [
    {
     "data": {
      "text/plain": [
       "0    10\n",
       "1    20\n",
       "2    30\n",
       "3    46\n",
       "4     7\n",
       "dtype: int64"
      ]
     },
     "execution_count": 24,
     "metadata": {},
     "output_type": "execute_result"
    }
   ],
   "source": [
    "s = pd.Series([10,20,30,46,7])   #Creating a Series\n",
    "s"
   ]
  },
  {
   "cell_type": "code",
   "execution_count": 25,
   "id": "01507e26",
   "metadata": {},
   "outputs": [
    {
     "data": {
      "text/plain": [
       "46"
      ]
     },
     "execution_count": 25,
     "metadata": {},
     "output_type": "execute_result"
    }
   ],
   "source": [
    "# Indexing pandas series: Same as indexing 1-d numpy arrays or lists\n",
    "# accessing the fourth element\n",
    "s[3]"
   ]
  },
  {
   "cell_type": "code",
   "execution_count": 26,
   "id": "40250980",
   "metadata": {},
   "outputs": [
    {
     "data": {
      "text/plain": [
       "2    30\n",
       "3    46\n",
       "4     7\n",
       "dtype: int64"
      ]
     },
     "execution_count": 26,
     "metadata": {},
     "output_type": "execute_result"
    }
   ],
   "source": [
    "# accessing elements starting index = 2 till the end\n",
    "s[2:]"
   ]
  },
  {
   "cell_type": "code",
   "execution_count": 27,
   "id": "538bfade",
   "metadata": {},
   "outputs": [
    {
     "data": {
      "text/plain": [
       "1    20\n",
       "3    46\n",
       "dtype: int64"
      ]
     },
     "execution_count": 27,
     "metadata": {},
     "output_type": "execute_result"
    }
   ],
   "source": [
    "# accessing the second and the fourth elements\n",
    "# note that s[1, 3] will not work, you need to pass the indices [1, 3] as a list inside the original []\n",
    "s[[1, 3]]"
   ]
  },
  {
   "cell_type": "code",
   "execution_count": 28,
   "id": "3c594ebf",
   "metadata": {},
   "outputs": [
    {
     "data": {
      "text/plain": [
       "A    APPLE\n",
       "B      BAT\n",
       "C      CAR\n",
       "D      DOG\n",
       "dtype: object"
      ]
     },
     "execution_count": 28,
     "metadata": {},
     "output_type": "execute_result"
    }
   ],
   "source": [
    "ds1"
   ]
  },
  {
   "cell_type": "code",
   "execution_count": 29,
   "id": "332fda47",
   "metadata": {},
   "outputs": [
    {
     "data": {
      "text/plain": [
       "'APPLE'"
      ]
     },
     "execution_count": 29,
     "metadata": {},
     "output_type": "execute_result"
    }
   ],
   "source": [
    "ds1[\"A\"]"
   ]
  },
  {
   "cell_type": "code",
   "execution_count": 30,
   "id": "f7e1b1ad",
   "metadata": {},
   "outputs": [
    {
     "data": {
      "text/plain": [
       "'APPLE'"
      ]
     },
     "execution_count": 30,
     "metadata": {},
     "output_type": "execute_result"
    }
   ],
   "source": [
    "ds1[0]"
   ]
  },
  {
   "cell_type": "markdown",
   "id": "07329fe6",
   "metadata": {},
   "source": [
    "**Slicing Series**"
   ]
  },
  {
   "cell_type": "code",
   "execution_count": 31,
   "id": "5ad0e724",
   "metadata": {},
   "outputs": [
    {
     "data": {
      "text/plain": [
       "0    10\n",
       "1    20\n",
       "2    30\n",
       "3    46\n",
       "4     7\n",
       "dtype: int64"
      ]
     },
     "execution_count": 31,
     "metadata": {},
     "output_type": "execute_result"
    }
   ],
   "source": [
    "s"
   ]
  },
  {
   "cell_type": "code",
   "execution_count": 32,
   "id": "ac268126",
   "metadata": {},
   "outputs": [
    {
     "data": {
      "text/plain": [
       "1    20\n",
       "2    30\n",
       "3    46\n",
       "dtype: int64"
      ]
     },
     "execution_count": 32,
     "metadata": {},
     "output_type": "execute_result"
    }
   ],
   "source": [
    "s[1 : 4]   #slicing the rows from 1 to 3"
   ]
  },
  {
   "cell_type": "code",
   "execution_count": 33,
   "id": "3472ac8e",
   "metadata": {},
   "outputs": [
    {
     "data": {
      "text/plain": [
       "1    20\n",
       "3    46\n",
       "dtype: int64"
      ]
     },
     "execution_count": 33,
     "metadata": {},
     "output_type": "execute_result"
    }
   ],
   "source": [
    "s[1 : 4 : 2]   #slicing using step 2"
   ]
  },
  {
   "cell_type": "code",
   "execution_count": 34,
   "id": "a30012ed",
   "metadata": {},
   "outputs": [
    {
     "data": {
      "text/plain": [
       "A    APPLE\n",
       "B      BAT\n",
       "C      CAR\n",
       "D      DOG\n",
       "dtype: object"
      ]
     },
     "execution_count": 34,
     "metadata": {},
     "output_type": "execute_result"
    }
   ],
   "source": [
    "ds1"
   ]
  },
  {
   "cell_type": "code",
   "execution_count": 36,
   "id": "f3a4c840",
   "metadata": {},
   "outputs": [
    {
     "data": {
      "text/plain": [
       "B    BAT\n",
       "C    CAR\n",
       "D    DOG\n",
       "dtype: object"
      ]
     },
     "execution_count": 36,
     "metadata": {},
     "output_type": "execute_result"
    }
   ],
   "source": [
    "ds1[\"B\":\"D\"]    #slicing using character indexings from \"B\" to \"D\""
   ]
  },
  {
   "cell_type": "markdown",
   "id": "30eb9768",
   "metadata": {},
   "source": [
    "**Adding two series**"
   ]
  },
  {
   "cell_type": "code",
   "execution_count": 38,
   "id": "c5b804c9",
   "metadata": {},
   "outputs": [],
   "source": [
    "sa = pd.Series([10,20,30,40,50])\n",
    "sb = pd.Series([1,2,3,4,5])            #Creating two series"
   ]
  },
  {
   "cell_type": "code",
   "execution_count": 39,
   "id": "23acb3c4",
   "metadata": {},
   "outputs": [
    {
     "data": {
      "text/plain": [
       "0    10\n",
       "1    20\n",
       "2    30\n",
       "3    40\n",
       "4    50\n",
       "dtype: int64"
      ]
     },
     "execution_count": 39,
     "metadata": {},
     "output_type": "execute_result"
    }
   ],
   "source": [
    "sa"
   ]
  },
  {
   "cell_type": "code",
   "execution_count": 40,
   "id": "ed403086",
   "metadata": {},
   "outputs": [
    {
     "data": {
      "text/plain": [
       "0    1\n",
       "1    2\n",
       "2    3\n",
       "3    4\n",
       "4    5\n",
       "dtype: int64"
      ]
     },
     "execution_count": 40,
     "metadata": {},
     "output_type": "execute_result"
    }
   ],
   "source": [
    "sb"
   ]
  },
  {
   "cell_type": "code",
   "execution_count": 41,
   "id": "19030954",
   "metadata": {
    "scrolled": true
   },
   "outputs": [
    {
     "data": {
      "text/plain": [
       "0    11\n",
       "1    22\n",
       "2    33\n",
       "3    44\n",
       "4    55\n",
       "dtype: int64"
      ]
     },
     "execution_count": 41,
     "metadata": {},
     "output_type": "execute_result"
    }
   ],
   "source": [
    "sa+ sb        #adding two series"
   ]
  },
  {
   "cell_type": "markdown",
   "id": "4f1430b6",
   "metadata": {},
   "source": [
    "------------------------------------------------------------------------------------------------------"
   ]
  },
  {
   "cell_type": "markdown",
   "id": "a715539a",
   "metadata": {},
   "source": [
    "## Dataframe\n",
    "\n",
    "- Dataframe is the most widely used data-structure in data analysis. \n",
    "\n",
    "- `It is a table with rows and columns, with rows having an index and columns having meaningful names.`"
   ]
  },
  {
   "cell_type": "markdown",
   "id": "5b132350",
   "metadata": {},
   "source": [
    "**Syntax to create dataframe**\n",
    "\n",
    "> df = pd.DataFrame(`list,Series,array,dictionary`)"
   ]
  },
  {
   "cell_type": "markdown",
   "id": "77eb46cb",
   "metadata": {},
   "source": [
    "**Creating a DataFrame using list**"
   ]
  },
  {
   "cell_type": "code",
   "execution_count": 51,
   "id": "84d110ad",
   "metadata": {},
   "outputs": [
    {
     "name": "stdout",
     "output_type": "stream",
     "text": [
      "[10, 20, 30, 40, 50]\n",
      "<class 'list'>\n"
     ]
    }
   ],
   "source": [
    "list1=[10,20,30,40,50]\n",
    "print(list1)\n",
    "print(type(list1))               #Creating a List"
   ]
  },
  {
   "cell_type": "code",
   "execution_count": 43,
   "id": "c29c91f9",
   "metadata": {},
   "outputs": [
    {
     "data": {
      "text/html": [
       "<div>\n",
       "<style scoped>\n",
       "    .dataframe tbody tr th:only-of-type {\n",
       "        vertical-align: middle;\n",
       "    }\n",
       "\n",
       "    .dataframe tbody tr th {\n",
       "        vertical-align: top;\n",
       "    }\n",
       "\n",
       "    .dataframe thead th {\n",
       "        text-align: right;\n",
       "    }\n",
       "</style>\n",
       "<table border=\"1\" class=\"dataframe\">\n",
       "  <thead>\n",
       "    <tr style=\"text-align: right;\">\n",
       "      <th></th>\n",
       "      <th>0</th>\n",
       "    </tr>\n",
       "  </thead>\n",
       "  <tbody>\n",
       "    <tr>\n",
       "      <th>0</th>\n",
       "      <td>10</td>\n",
       "    </tr>\n",
       "    <tr>\n",
       "      <th>1</th>\n",
       "      <td>20</td>\n",
       "    </tr>\n",
       "    <tr>\n",
       "      <th>2</th>\n",
       "      <td>30</td>\n",
       "    </tr>\n",
       "    <tr>\n",
       "      <th>3</th>\n",
       "      <td>40</td>\n",
       "    </tr>\n",
       "    <tr>\n",
       "      <th>4</th>\n",
       "      <td>50</td>\n",
       "    </tr>\n",
       "  </tbody>\n",
       "</table>\n",
       "</div>"
      ],
      "text/plain": [
       "    0\n",
       "0  10\n",
       "1  20\n",
       "2  30\n",
       "3  40\n",
       "4  50"
      ]
     },
     "execution_count": 43,
     "metadata": {},
     "output_type": "execute_result"
    }
   ],
   "source": [
    "df=pd.DataFrame(list1)\n",
    "df"
   ]
  },
  {
   "cell_type": "code",
   "execution_count": 47,
   "id": "e1319669",
   "metadata": {},
   "outputs": [
    {
     "data": {
      "text/html": [
       "<div>\n",
       "<style scoped>\n",
       "    .dataframe tbody tr th:only-of-type {\n",
       "        vertical-align: middle;\n",
       "    }\n",
       "\n",
       "    .dataframe tbody tr th {\n",
       "        vertical-align: top;\n",
       "    }\n",
       "\n",
       "    .dataframe thead th {\n",
       "        text-align: right;\n",
       "    }\n",
       "</style>\n",
       "<table border=\"1\" class=\"dataframe\">\n",
       "  <thead>\n",
       "    <tr style=\"text-align: right;\">\n",
       "      <th></th>\n",
       "      <th>Column1</th>\n",
       "    </tr>\n",
       "  </thead>\n",
       "  <tbody>\n",
       "    <tr>\n",
       "      <th>0</th>\n",
       "      <td>10</td>\n",
       "    </tr>\n",
       "    <tr>\n",
       "      <th>1</th>\n",
       "      <td>20</td>\n",
       "    </tr>\n",
       "    <tr>\n",
       "      <th>2</th>\n",
       "      <td>30</td>\n",
       "    </tr>\n",
       "    <tr>\n",
       "      <th>3</th>\n",
       "      <td>40</td>\n",
       "    </tr>\n",
       "    <tr>\n",
       "      <th>4</th>\n",
       "      <td>50</td>\n",
       "    </tr>\n",
       "  </tbody>\n",
       "</table>\n",
       "</div>"
      ],
      "text/plain": [
       "   Column1\n",
       "0       10\n",
       "1       20\n",
       "2       30\n",
       "3       40\n",
       "4       50"
      ]
     },
     "execution_count": 47,
     "metadata": {},
     "output_type": "execute_result"
    }
   ],
   "source": [
    "df=pd.DataFrame(list1,columns=[\"Column1\"])    #Assigning column name-- \"Column1\"\n",
    "df"
   ]
  },
  {
   "cell_type": "code",
   "execution_count": 48,
   "id": "93e014f5",
   "metadata": {},
   "outputs": [
    {
     "name": "stdout",
     "output_type": "stream",
     "text": [
      "<class 'pandas.core.frame.DataFrame'>\n"
     ]
    }
   ],
   "source": [
    "print(type(df))"
   ]
  },
  {
   "cell_type": "markdown",
   "id": "c90bbc89",
   "metadata": {},
   "source": [
    "**Creating a DataFrame using Series**"
   ]
  },
  {
   "cell_type": "code",
   "execution_count": 50,
   "id": "ddbcd5d7",
   "metadata": {},
   "outputs": [
    {
     "name": "stdout",
     "output_type": "stream",
     "text": [
      "0    10\n",
      "1    20\n",
      "2    30\n",
      "3    40\n",
      "4    50\n",
      "dtype: int64\n"
     ]
    },
    {
     "data": {
      "text/plain": [
       "pandas.core.series.Series"
      ]
     },
     "execution_count": 50,
     "metadata": {},
     "output_type": "execute_result"
    }
   ],
   "source": [
    "s1 = pd.Series([10,20,30,40,50])\n",
    "print(s1)                                #Creating a Series\n",
    "type(s1)"
   ]
  },
  {
   "cell_type": "code",
   "execution_count": 52,
   "id": "eb97fa56",
   "metadata": {},
   "outputs": [],
   "source": [
    "df1=pd.DataFrame(s1)"
   ]
  },
  {
   "cell_type": "code",
   "execution_count": 53,
   "id": "281312ef",
   "metadata": {},
   "outputs": [
    {
     "data": {
      "text/html": [
       "<div>\n",
       "<style scoped>\n",
       "    .dataframe tbody tr th:only-of-type {\n",
       "        vertical-align: middle;\n",
       "    }\n",
       "\n",
       "    .dataframe tbody tr th {\n",
       "        vertical-align: top;\n",
       "    }\n",
       "\n",
       "    .dataframe thead th {\n",
       "        text-align: right;\n",
       "    }\n",
       "</style>\n",
       "<table border=\"1\" class=\"dataframe\">\n",
       "  <thead>\n",
       "    <tr style=\"text-align: right;\">\n",
       "      <th></th>\n",
       "      <th>0</th>\n",
       "    </tr>\n",
       "  </thead>\n",
       "  <tbody>\n",
       "    <tr>\n",
       "      <th>0</th>\n",
       "      <td>10</td>\n",
       "    </tr>\n",
       "    <tr>\n",
       "      <th>1</th>\n",
       "      <td>20</td>\n",
       "    </tr>\n",
       "    <tr>\n",
       "      <th>2</th>\n",
       "      <td>30</td>\n",
       "    </tr>\n",
       "    <tr>\n",
       "      <th>3</th>\n",
       "      <td>40</td>\n",
       "    </tr>\n",
       "    <tr>\n",
       "      <th>4</th>\n",
       "      <td>50</td>\n",
       "    </tr>\n",
       "  </tbody>\n",
       "</table>\n",
       "</div>"
      ],
      "text/plain": [
       "    0\n",
       "0  10\n",
       "1  20\n",
       "2  30\n",
       "3  40\n",
       "4  50"
      ]
     },
     "execution_count": 53,
     "metadata": {},
     "output_type": "execute_result"
    }
   ],
   "source": [
    "df1"
   ]
  },
  {
   "cell_type": "code",
   "execution_count": 54,
   "id": "85143501",
   "metadata": {},
   "outputs": [
    {
     "data": {
      "text/plain": [
       "pandas.core.frame.DataFrame"
      ]
     },
     "execution_count": 54,
     "metadata": {},
     "output_type": "execute_result"
    }
   ],
   "source": [
    "type(df1)"
   ]
  },
  {
   "cell_type": "markdown",
   "id": "e82e77e9",
   "metadata": {},
   "source": [
    "**Creating a DataFrame using Dictionaries**"
   ]
  },
  {
   "cell_type": "code",
   "execution_count": 55,
   "id": "9e1eba23",
   "metadata": {},
   "outputs": [],
   "source": [
    "dic1 = {\n",
    "    \n",
    "    \"Name\" : [\"A\",\"B\",\"C\",\"D\"],\n",
    "    \"Designation\" : [\"PM\",\"Dev\",\"TM\",\"Tester\"],\n",
    "    'Location' : ['Delhi',\"Hyderabad\", \"Chennai\", \"Vizag\"],        #Creating a Dictionary\n",
    "    'Salary' : [100000,80000,90000,60000]\n",
    "    \n",
    "}"
   ]
  },
  {
   "cell_type": "code",
   "execution_count": 56,
   "id": "ff68f540",
   "metadata": {},
   "outputs": [],
   "source": [
    "df2=pd.DataFrame(dic1)"
   ]
  },
  {
   "cell_type": "code",
   "execution_count": 57,
   "id": "760a798f",
   "metadata": {},
   "outputs": [
    {
     "data": {
      "text/html": [
       "<div>\n",
       "<style scoped>\n",
       "    .dataframe tbody tr th:only-of-type {\n",
       "        vertical-align: middle;\n",
       "    }\n",
       "\n",
       "    .dataframe tbody tr th {\n",
       "        vertical-align: top;\n",
       "    }\n",
       "\n",
       "    .dataframe thead th {\n",
       "        text-align: right;\n",
       "    }\n",
       "</style>\n",
       "<table border=\"1\" class=\"dataframe\">\n",
       "  <thead>\n",
       "    <tr style=\"text-align: right;\">\n",
       "      <th></th>\n",
       "      <th>Name</th>\n",
       "      <th>Designation</th>\n",
       "      <th>Location</th>\n",
       "      <th>Salary</th>\n",
       "    </tr>\n",
       "  </thead>\n",
       "  <tbody>\n",
       "    <tr>\n",
       "      <th>0</th>\n",
       "      <td>A</td>\n",
       "      <td>PM</td>\n",
       "      <td>Delhi</td>\n",
       "      <td>100000</td>\n",
       "    </tr>\n",
       "    <tr>\n",
       "      <th>1</th>\n",
       "      <td>B</td>\n",
       "      <td>Dev</td>\n",
       "      <td>Hyderabad</td>\n",
       "      <td>80000</td>\n",
       "    </tr>\n",
       "    <tr>\n",
       "      <th>2</th>\n",
       "      <td>C</td>\n",
       "      <td>TM</td>\n",
       "      <td>Chennai</td>\n",
       "      <td>90000</td>\n",
       "    </tr>\n",
       "    <tr>\n",
       "      <th>3</th>\n",
       "      <td>D</td>\n",
       "      <td>Tester</td>\n",
       "      <td>Vizag</td>\n",
       "      <td>60000</td>\n",
       "    </tr>\n",
       "  </tbody>\n",
       "</table>\n",
       "</div>"
      ],
      "text/plain": [
       "  Name Designation   Location  Salary\n",
       "0    A          PM      Delhi  100000\n",
       "1    B         Dev  Hyderabad   80000\n",
       "2    C          TM    Chennai   90000\n",
       "3    D      Tester      Vizag   60000"
      ]
     },
     "execution_count": 57,
     "metadata": {},
     "output_type": "execute_result"
    }
   ],
   "source": [
    "df2"
   ]
  },
  {
   "cell_type": "markdown",
   "id": "040cc4fd",
   "metadata": {},
   "source": [
    "**Creating indexed dataframe**"
   ]
  },
  {
   "cell_type": "code",
   "execution_count": 58,
   "id": "884e2af4",
   "metadata": {},
   "outputs": [],
   "source": [
    "df3=pd.DataFrame(dic1,index = ['person1', 'person2', 'person3', 'person4'])    #Passing indexes"
   ]
  },
  {
   "cell_type": "code",
   "execution_count": 59,
   "id": "0903024f",
   "metadata": {},
   "outputs": [
    {
     "data": {
      "text/html": [
       "<div>\n",
       "<style scoped>\n",
       "    .dataframe tbody tr th:only-of-type {\n",
       "        vertical-align: middle;\n",
       "    }\n",
       "\n",
       "    .dataframe tbody tr th {\n",
       "        vertical-align: top;\n",
       "    }\n",
       "\n",
       "    .dataframe thead th {\n",
       "        text-align: right;\n",
       "    }\n",
       "</style>\n",
       "<table border=\"1\" class=\"dataframe\">\n",
       "  <thead>\n",
       "    <tr style=\"text-align: right;\">\n",
       "      <th></th>\n",
       "      <th>Name</th>\n",
       "      <th>Designation</th>\n",
       "      <th>Location</th>\n",
       "      <th>Salary</th>\n",
       "    </tr>\n",
       "  </thead>\n",
       "  <tbody>\n",
       "    <tr>\n",
       "      <th>person1</th>\n",
       "      <td>A</td>\n",
       "      <td>PM</td>\n",
       "      <td>Delhi</td>\n",
       "      <td>100000</td>\n",
       "    </tr>\n",
       "    <tr>\n",
       "      <th>person2</th>\n",
       "      <td>B</td>\n",
       "      <td>Dev</td>\n",
       "      <td>Hyderabad</td>\n",
       "      <td>80000</td>\n",
       "    </tr>\n",
       "    <tr>\n",
       "      <th>person3</th>\n",
       "      <td>C</td>\n",
       "      <td>TM</td>\n",
       "      <td>Chennai</td>\n",
       "      <td>90000</td>\n",
       "    </tr>\n",
       "    <tr>\n",
       "      <th>person4</th>\n",
       "      <td>D</td>\n",
       "      <td>Tester</td>\n",
       "      <td>Vizag</td>\n",
       "      <td>60000</td>\n",
       "    </tr>\n",
       "  </tbody>\n",
       "</table>\n",
       "</div>"
      ],
      "text/plain": [
       "        Name Designation   Location  Salary\n",
       "person1    A          PM      Delhi  100000\n",
       "person2    B         Dev  Hyderabad   80000\n",
       "person3    C          TM    Chennai   90000\n",
       "person4    D      Tester      Vizag   60000"
      ]
     },
     "execution_count": 59,
     "metadata": {},
     "output_type": "execute_result"
    }
   ],
   "source": [
    "df3"
   ]
  },
  {
   "cell_type": "markdown",
   "id": "d8c4fc07",
   "metadata": {},
   "source": [
    "**Creating a DataFrame with NaN values**   "
   ]
  },
  {
   "cell_type": "markdown",
   "id": "362f1466",
   "metadata": {},
   "source": [
    "- NaN value------ Null value `syntax for NaN -- np.nan`"
   ]
  },
  {
   "cell_type": "code",
   "execution_count": 61,
   "id": "8c48d6e0",
   "metadata": {},
   "outputs": [],
   "source": [
    "dic1 = {\n",
    "    \n",
    "    \"Name\" : [\"A\",np.nan,\"C\",\"D\"],\n",
    "    \"Designation\" : [\"PM\",np.nan,\"TM\",\"Tester\"],                #Creating a Dictionary\n",
    "    'Location' : ['Delhi',\"Hyderabad\", \"Chennai\", \"Vizag\"],\n",
    "    'Salary' : [100000,80000,np.nan,60000]\n",
    "    \n",
    "}"
   ]
  },
  {
   "cell_type": "code",
   "execution_count": 62,
   "id": "49168cff",
   "metadata": {},
   "outputs": [
    {
     "data": {
      "text/html": [
       "<div>\n",
       "<style scoped>\n",
       "    .dataframe tbody tr th:only-of-type {\n",
       "        vertical-align: middle;\n",
       "    }\n",
       "\n",
       "    .dataframe tbody tr th {\n",
       "        vertical-align: top;\n",
       "    }\n",
       "\n",
       "    .dataframe thead th {\n",
       "        text-align: right;\n",
       "    }\n",
       "</style>\n",
       "<table border=\"1\" class=\"dataframe\">\n",
       "  <thead>\n",
       "    <tr style=\"text-align: right;\">\n",
       "      <th></th>\n",
       "      <th>Name</th>\n",
       "      <th>Designation</th>\n",
       "      <th>Location</th>\n",
       "      <th>Salary</th>\n",
       "    </tr>\n",
       "  </thead>\n",
       "  <tbody>\n",
       "    <tr>\n",
       "      <th>0</th>\n",
       "      <td>A</td>\n",
       "      <td>PM</td>\n",
       "      <td>Delhi</td>\n",
       "      <td>100000.0</td>\n",
       "    </tr>\n",
       "    <tr>\n",
       "      <th>1</th>\n",
       "      <td>NaN</td>\n",
       "      <td>NaN</td>\n",
       "      <td>Hyderabad</td>\n",
       "      <td>80000.0</td>\n",
       "    </tr>\n",
       "    <tr>\n",
       "      <th>2</th>\n",
       "      <td>C</td>\n",
       "      <td>TM</td>\n",
       "      <td>Chennai</td>\n",
       "      <td>NaN</td>\n",
       "    </tr>\n",
       "    <tr>\n",
       "      <th>3</th>\n",
       "      <td>D</td>\n",
       "      <td>Tester</td>\n",
       "      <td>Vizag</td>\n",
       "      <td>60000.0</td>\n",
       "    </tr>\n",
       "  </tbody>\n",
       "</table>\n",
       "</div>"
      ],
      "text/plain": [
       "  Name Designation   Location    Salary\n",
       "0    A          PM      Delhi  100000.0\n",
       "1  NaN         NaN  Hyderabad   80000.0\n",
       "2    C          TM    Chennai       NaN\n",
       "3    D      Tester      Vizag   60000.0"
      ]
     },
     "execution_count": 62,
     "metadata": {},
     "output_type": "execute_result"
    }
   ],
   "source": [
    "pd.DataFrame(dic1)"
   ]
  },
  {
   "cell_type": "markdown",
   "id": "f02fc182",
   "metadata": {},
   "source": [
    "#### Acessing columns values in DataFrame"
   ]
  },
  {
   "cell_type": "code",
   "execution_count": 68,
   "id": "c405581f",
   "metadata": {},
   "outputs": [
    {
     "data": {
      "text/html": [
       "<div>\n",
       "<style scoped>\n",
       "    .dataframe tbody tr th:only-of-type {\n",
       "        vertical-align: middle;\n",
       "    }\n",
       "\n",
       "    .dataframe tbody tr th {\n",
       "        vertical-align: top;\n",
       "    }\n",
       "\n",
       "    .dataframe thead th {\n",
       "        text-align: right;\n",
       "    }\n",
       "</style>\n",
       "<table border=\"1\" class=\"dataframe\">\n",
       "  <thead>\n",
       "    <tr style=\"text-align: right;\">\n",
       "      <th></th>\n",
       "      <th>Name</th>\n",
       "      <th>Designation</th>\n",
       "      <th>Location</th>\n",
       "      <th>Salary</th>\n",
       "    </tr>\n",
       "  </thead>\n",
       "  <tbody>\n",
       "    <tr>\n",
       "      <th>person1</th>\n",
       "      <td>A</td>\n",
       "      <td>PM</td>\n",
       "      <td>Delhi</td>\n",
       "      <td>100000</td>\n",
       "    </tr>\n",
       "    <tr>\n",
       "      <th>person2</th>\n",
       "      <td>B</td>\n",
       "      <td>Dev</td>\n",
       "      <td>Hyderabad</td>\n",
       "      <td>80000</td>\n",
       "    </tr>\n",
       "    <tr>\n",
       "      <th>person3</th>\n",
       "      <td>C</td>\n",
       "      <td>TM</td>\n",
       "      <td>Chennai</td>\n",
       "      <td>90000</td>\n",
       "    </tr>\n",
       "    <tr>\n",
       "      <th>person4</th>\n",
       "      <td>D</td>\n",
       "      <td>Tester</td>\n",
       "      <td>Vizag</td>\n",
       "      <td>60000</td>\n",
       "    </tr>\n",
       "  </tbody>\n",
       "</table>\n",
       "</div>"
      ],
      "text/plain": [
       "        Name Designation   Location  Salary\n",
       "person1    A          PM      Delhi  100000\n",
       "person2    B         Dev  Hyderabad   80000\n",
       "person3    C          TM    Chennai   90000\n",
       "person4    D      Tester      Vizag   60000"
      ]
     },
     "execution_count": 68,
     "metadata": {},
     "output_type": "execute_result"
    }
   ],
   "source": [
    "df3"
   ]
  },
  {
   "cell_type": "code",
   "execution_count": 69,
   "id": "b0cdd599",
   "metadata": {},
   "outputs": [
    {
     "data": {
      "text/plain": [
       "person1    A\n",
       "person2    B\n",
       "person3    C\n",
       "person4    D\n",
       "Name: Name, dtype: object"
      ]
     },
     "execution_count": 69,
     "metadata": {},
     "output_type": "execute_result"
    }
   ],
   "source": [
    "df3[\"Name\"]    #acessing \"[Name]\" column "
   ]
  },
  {
   "cell_type": "code",
   "execution_count": 64,
   "id": "386565d2",
   "metadata": {},
   "outputs": [
    {
     "data": {
      "text/plain": [
       "pandas.core.series.Series"
      ]
     },
     "execution_count": 64,
     "metadata": {},
     "output_type": "execute_result"
    }
   ],
   "source": [
    "type(df3[\"Name\"])    #------above syntax will give output in Series"
   ]
  },
  {
   "cell_type": "code",
   "execution_count": 71,
   "id": "84d4c558",
   "metadata": {},
   "outputs": [
    {
     "data": {
      "text/html": [
       "<div>\n",
       "<style scoped>\n",
       "    .dataframe tbody tr th:only-of-type {\n",
       "        vertical-align: middle;\n",
       "    }\n",
       "\n",
       "    .dataframe tbody tr th {\n",
       "        vertical-align: top;\n",
       "    }\n",
       "\n",
       "    .dataframe thead th {\n",
       "        text-align: right;\n",
       "    }\n",
       "</style>\n",
       "<table border=\"1\" class=\"dataframe\">\n",
       "  <thead>\n",
       "    <tr style=\"text-align: right;\">\n",
       "      <th></th>\n",
       "      <th>Name</th>\n",
       "    </tr>\n",
       "  </thead>\n",
       "  <tbody>\n",
       "    <tr>\n",
       "      <th>person1</th>\n",
       "      <td>A</td>\n",
       "    </tr>\n",
       "    <tr>\n",
       "      <th>person2</th>\n",
       "      <td>B</td>\n",
       "    </tr>\n",
       "    <tr>\n",
       "      <th>person3</th>\n",
       "      <td>C</td>\n",
       "    </tr>\n",
       "    <tr>\n",
       "      <th>person4</th>\n",
       "      <td>D</td>\n",
       "    </tr>\n",
       "  </tbody>\n",
       "</table>\n",
       "</div>"
      ],
      "text/plain": [
       "        Name\n",
       "person1    A\n",
       "person2    B\n",
       "person3    C\n",
       "person4    D"
      ]
     },
     "execution_count": 71,
     "metadata": {},
     "output_type": "execute_result"
    }
   ],
   "source": [
    "df3[[\"Name\"]]       ##acessing \"[[Name]]\" column "
   ]
  },
  {
   "cell_type": "code",
   "execution_count": 66,
   "id": "d35aff39",
   "metadata": {},
   "outputs": [
    {
     "data": {
      "text/plain": [
       "pandas.core.frame.DataFrame"
      ]
     },
     "execution_count": 66,
     "metadata": {},
     "output_type": "execute_result"
    }
   ],
   "source": [
    "type(df3[[\"Name\"]])   #------above syntax will give output in DataFrame"
   ]
  },
  {
   "cell_type": "code",
   "execution_count": 67,
   "id": "e8006845",
   "metadata": {},
   "outputs": [
    {
     "data": {
      "text/html": [
       "<div>\n",
       "<style scoped>\n",
       "    .dataframe tbody tr th:only-of-type {\n",
       "        vertical-align: middle;\n",
       "    }\n",
       "\n",
       "    .dataframe tbody tr th {\n",
       "        vertical-align: top;\n",
       "    }\n",
       "\n",
       "    .dataframe thead th {\n",
       "        text-align: right;\n",
       "    }\n",
       "</style>\n",
       "<table border=\"1\" class=\"dataframe\">\n",
       "  <thead>\n",
       "    <tr style=\"text-align: right;\">\n",
       "      <th></th>\n",
       "      <th>Name</th>\n",
       "      <th>Salary</th>\n",
       "    </tr>\n",
       "  </thead>\n",
       "  <tbody>\n",
       "    <tr>\n",
       "      <th>person1</th>\n",
       "      <td>A</td>\n",
       "      <td>100000</td>\n",
       "    </tr>\n",
       "    <tr>\n",
       "      <th>person2</th>\n",
       "      <td>B</td>\n",
       "      <td>80000</td>\n",
       "    </tr>\n",
       "    <tr>\n",
       "      <th>person3</th>\n",
       "      <td>C</td>\n",
       "      <td>90000</td>\n",
       "    </tr>\n",
       "    <tr>\n",
       "      <th>person4</th>\n",
       "      <td>D</td>\n",
       "      <td>60000</td>\n",
       "    </tr>\n",
       "  </tbody>\n",
       "</table>\n",
       "</div>"
      ],
      "text/plain": [
       "        Name  Salary\n",
       "person1    A  100000\n",
       "person2    B   80000\n",
       "person3    C   90000\n",
       "person4    D   60000"
      ]
     },
     "execution_count": 67,
     "metadata": {},
     "output_type": "execute_result"
    }
   ],
   "source": [
    "df3[[\"Name\",\"Salary\"]]   #acessing multipe columns in a DataFrame"
   ]
  },
  {
   "cell_type": "markdown",
   "id": "1c0ce91e",
   "metadata": {},
   "source": [
    "**Creating a DataFrame using numpy array**"
   ]
  },
  {
   "cell_type": "code",
   "execution_count": 73,
   "id": "4dba7f85",
   "metadata": {},
   "outputs": [
    {
     "name": "stdout",
     "output_type": "stream",
     "text": [
      "[[177 150 159 115 130]\n",
      " [135 191 119 146 108]\n",
      " [130 137 186 108 191]\n",
      " [198 175 139 114 123]]\n",
      "<class 'numpy.ndarray'>\n"
     ]
    }
   ],
   "source": [
    "ary1 = np.random.randint(100,200,(4,5))      #Creating a array using numpy\n",
    "print(ary1)\n",
    "print(type(ary1))"
   ]
  },
  {
   "cell_type": "code",
   "execution_count": 74,
   "id": "7bc734aa",
   "metadata": {},
   "outputs": [],
   "source": [
    "dfnp = pd.DataFrame(ary1)        #creating DataFrame using array"
   ]
  },
  {
   "cell_type": "code",
   "execution_count": 75,
   "id": "fcc2406e",
   "metadata": {},
   "outputs": [
    {
     "data": {
      "text/html": [
       "<div>\n",
       "<style scoped>\n",
       "    .dataframe tbody tr th:only-of-type {\n",
       "        vertical-align: middle;\n",
       "    }\n",
       "\n",
       "    .dataframe tbody tr th {\n",
       "        vertical-align: top;\n",
       "    }\n",
       "\n",
       "    .dataframe thead th {\n",
       "        text-align: right;\n",
       "    }\n",
       "</style>\n",
       "<table border=\"1\" class=\"dataframe\">\n",
       "  <thead>\n",
       "    <tr style=\"text-align: right;\">\n",
       "      <th></th>\n",
       "      <th>0</th>\n",
       "      <th>1</th>\n",
       "      <th>2</th>\n",
       "      <th>3</th>\n",
       "      <th>4</th>\n",
       "    </tr>\n",
       "  </thead>\n",
       "  <tbody>\n",
       "    <tr>\n",
       "      <th>0</th>\n",
       "      <td>177</td>\n",
       "      <td>150</td>\n",
       "      <td>159</td>\n",
       "      <td>115</td>\n",
       "      <td>130</td>\n",
       "    </tr>\n",
       "    <tr>\n",
       "      <th>1</th>\n",
       "      <td>135</td>\n",
       "      <td>191</td>\n",
       "      <td>119</td>\n",
       "      <td>146</td>\n",
       "      <td>108</td>\n",
       "    </tr>\n",
       "    <tr>\n",
       "      <th>2</th>\n",
       "      <td>130</td>\n",
       "      <td>137</td>\n",
       "      <td>186</td>\n",
       "      <td>108</td>\n",
       "      <td>191</td>\n",
       "    </tr>\n",
       "    <tr>\n",
       "      <th>3</th>\n",
       "      <td>198</td>\n",
       "      <td>175</td>\n",
       "      <td>139</td>\n",
       "      <td>114</td>\n",
       "      <td>123</td>\n",
       "    </tr>\n",
       "  </tbody>\n",
       "</table>\n",
       "</div>"
      ],
      "text/plain": [
       "     0    1    2    3    4\n",
       "0  177  150  159  115  130\n",
       "1  135  191  119  146  108\n",
       "2  130  137  186  108  191\n",
       "3  198  175  139  114  123"
      ]
     },
     "execution_count": 75,
     "metadata": {},
     "output_type": "execute_result"
    }
   ],
   "source": [
    "dfnp"
   ]
  },
  {
   "cell_type": "code",
   "execution_count": 76,
   "id": "704dcc54",
   "metadata": {},
   "outputs": [],
   "source": [
    "dfnp = pd.DataFrame(ary1,columns=[\"A\",\"B\",\"C\",\"D\",\"E\"],index=[\"a\",\"b\",\"c\",\"d\"])  \n",
    "#Creating a DataFrame using same array but now assinging columns and indexing"
   ]
  },
  {
   "cell_type": "code",
   "execution_count": 77,
   "id": "b056364c",
   "metadata": {},
   "outputs": [
    {
     "data": {
      "text/html": [
       "<div>\n",
       "<style scoped>\n",
       "    .dataframe tbody tr th:only-of-type {\n",
       "        vertical-align: middle;\n",
       "    }\n",
       "\n",
       "    .dataframe tbody tr th {\n",
       "        vertical-align: top;\n",
       "    }\n",
       "\n",
       "    .dataframe thead th {\n",
       "        text-align: right;\n",
       "    }\n",
       "</style>\n",
       "<table border=\"1\" class=\"dataframe\">\n",
       "  <thead>\n",
       "    <tr style=\"text-align: right;\">\n",
       "      <th></th>\n",
       "      <th>A</th>\n",
       "      <th>B</th>\n",
       "      <th>C</th>\n",
       "      <th>D</th>\n",
       "      <th>E</th>\n",
       "    </tr>\n",
       "  </thead>\n",
       "  <tbody>\n",
       "    <tr>\n",
       "      <th>a</th>\n",
       "      <td>177</td>\n",
       "      <td>150</td>\n",
       "      <td>159</td>\n",
       "      <td>115</td>\n",
       "      <td>130</td>\n",
       "    </tr>\n",
       "    <tr>\n",
       "      <th>b</th>\n",
       "      <td>135</td>\n",
       "      <td>191</td>\n",
       "      <td>119</td>\n",
       "      <td>146</td>\n",
       "      <td>108</td>\n",
       "    </tr>\n",
       "    <tr>\n",
       "      <th>c</th>\n",
       "      <td>130</td>\n",
       "      <td>137</td>\n",
       "      <td>186</td>\n",
       "      <td>108</td>\n",
       "      <td>191</td>\n",
       "    </tr>\n",
       "    <tr>\n",
       "      <th>d</th>\n",
       "      <td>198</td>\n",
       "      <td>175</td>\n",
       "      <td>139</td>\n",
       "      <td>114</td>\n",
       "      <td>123</td>\n",
       "    </tr>\n",
       "  </tbody>\n",
       "</table>\n",
       "</div>"
      ],
      "text/plain": [
       "     A    B    C    D    E\n",
       "a  177  150  159  115  130\n",
       "b  135  191  119  146  108\n",
       "c  130  137  186  108  191\n",
       "d  198  175  139  114  123"
      ]
     },
     "execution_count": 77,
     "metadata": {},
     "output_type": "execute_result"
    }
   ],
   "source": [
    "dfnp"
   ]
  },
  {
   "cell_type": "code",
   "execution_count": 78,
   "id": "89ea08d6",
   "metadata": {},
   "outputs": [
    {
     "data": {
      "text/plain": [
       "177"
      ]
     },
     "execution_count": 78,
     "metadata": {},
     "output_type": "execute_result"
    }
   ],
   "source": [
    "dfnp[\"A\"][\"a\"]    #acessing by column and index"
   ]
  },
  {
   "cell_type": "code",
   "execution_count": 79,
   "id": "d0ec9181",
   "metadata": {},
   "outputs": [
    {
     "data": {
      "text/plain": [
       "114"
      ]
     },
     "execution_count": 79,
     "metadata": {},
     "output_type": "execute_result"
    }
   ],
   "source": [
    "dfnp[\"D\"][\"d\"]"
   ]
  },
  {
   "cell_type": "markdown",
   "id": "218d5fd3",
   "metadata": {},
   "source": [
    "**Creating a DataFrame using Tuple**"
   ]
  },
  {
   "cell_type": "code",
   "execution_count": 80,
   "id": "0ebe67a9",
   "metadata": {},
   "outputs": [
    {
     "data": {
      "text/html": [
       "<div>\n",
       "<style scoped>\n",
       "    .dataframe tbody tr th:only-of-type {\n",
       "        vertical-align: middle;\n",
       "    }\n",
       "\n",
       "    .dataframe tbody tr th {\n",
       "        vertical-align: top;\n",
       "    }\n",
       "\n",
       "    .dataframe thead th {\n",
       "        text-align: right;\n",
       "    }\n",
       "</style>\n",
       "<table border=\"1\" class=\"dataframe\">\n",
       "  <thead>\n",
       "    <tr style=\"text-align: right;\">\n",
       "      <th></th>\n",
       "      <th>0</th>\n",
       "      <th>1</th>\n",
       "      <th>2</th>\n",
       "      <th>3</th>\n",
       "    </tr>\n",
       "  </thead>\n",
       "  <tbody>\n",
       "    <tr>\n",
       "      <th>0</th>\n",
       "      <td>1/1/2019</td>\n",
       "      <td>13</td>\n",
       "      <td>6</td>\n",
       "      <td>Rain</td>\n",
       "    </tr>\n",
       "    <tr>\n",
       "      <th>1</th>\n",
       "      <td>2/1/2019</td>\n",
       "      <td>11</td>\n",
       "      <td>7</td>\n",
       "      <td>Fog</td>\n",
       "    </tr>\n",
       "    <tr>\n",
       "      <th>2</th>\n",
       "      <td>3/1/2019</td>\n",
       "      <td>12</td>\n",
       "      <td>8</td>\n",
       "      <td>Sunny</td>\n",
       "    </tr>\n",
       "    <tr>\n",
       "      <th>3</th>\n",
       "      <td>4/1/2019</td>\n",
       "      <td>8</td>\n",
       "      <td>5</td>\n",
       "      <td>Snow</td>\n",
       "    </tr>\n",
       "    <tr>\n",
       "      <th>4</th>\n",
       "      <td>5/1/2019</td>\n",
       "      <td>9</td>\n",
       "      <td>6</td>\n",
       "      <td>Rain</td>\n",
       "    </tr>\n",
       "  </tbody>\n",
       "</table>\n",
       "</div>"
      ],
      "text/plain": [
       "          0   1  2      3\n",
       "0  1/1/2019  13  6   Rain\n",
       "1  2/1/2019  11  7    Fog\n",
       "2  3/1/2019  12  8  Sunny\n",
       "3  4/1/2019   8  5   Snow\n",
       "4  5/1/2019   9  6   Rain"
      ]
     },
     "execution_count": 80,
     "metadata": {},
     "output_type": "execute_result"
    }
   ],
   "source": [
    "data = [('1/1/2019', 13, 6, 'Rain'),\n",
    "       ('2/1/2019', 11, 7, 'Fog'),\n",
    "       ('3/1/2019', 12, 8, 'Sunny'),\n",
    "       ('4/1/2019', 8, 5, 'Snow'),           #Creating a dataframeusing a list with tuples \n",
    "       ('5/1/2019', 9, 6 , 'Rain')]\n",
    "\n",
    "df = pd.DataFrame(data)\n",
    "df"
   ]
  },
  {
   "cell_type": "code",
   "execution_count": 82,
   "id": "8f6f6c11",
   "metadata": {},
   "outputs": [
    {
     "data": {
      "text/html": [
       "<div>\n",
       "<style scoped>\n",
       "    .dataframe tbody tr th:only-of-type {\n",
       "        vertical-align: middle;\n",
       "    }\n",
       "\n",
       "    .dataframe tbody tr th {\n",
       "        vertical-align: top;\n",
       "    }\n",
       "\n",
       "    .dataframe thead th {\n",
       "        text-align: right;\n",
       "    }\n",
       "</style>\n",
       "<table border=\"1\" class=\"dataframe\">\n",
       "  <thead>\n",
       "    <tr style=\"text-align: right;\">\n",
       "      <th></th>\n",
       "      <th>Date</th>\n",
       "      <th>Temperature</th>\n",
       "      <th>Windspeed</th>\n",
       "      <th>Event</th>\n",
       "    </tr>\n",
       "  </thead>\n",
       "  <tbody>\n",
       "    <tr>\n",
       "      <th>0</th>\n",
       "      <td>1/1/2019</td>\n",
       "      <td>13</td>\n",
       "      <td>6</td>\n",
       "      <td>Rain</td>\n",
       "    </tr>\n",
       "    <tr>\n",
       "      <th>1</th>\n",
       "      <td>2/1/2019</td>\n",
       "      <td>11</td>\n",
       "      <td>7</td>\n",
       "      <td>Fog</td>\n",
       "    </tr>\n",
       "    <tr>\n",
       "      <th>2</th>\n",
       "      <td>3/1/2019</td>\n",
       "      <td>12</td>\n",
       "      <td>8</td>\n",
       "      <td>Sunny</td>\n",
       "    </tr>\n",
       "    <tr>\n",
       "      <th>3</th>\n",
       "      <td>4/1/2019</td>\n",
       "      <td>8</td>\n",
       "      <td>5</td>\n",
       "      <td>Snow</td>\n",
       "    </tr>\n",
       "    <tr>\n",
       "      <th>4</th>\n",
       "      <td>5/1/2019</td>\n",
       "      <td>9</td>\n",
       "      <td>6</td>\n",
       "      <td>Rain</td>\n",
       "    </tr>\n",
       "  </tbody>\n",
       "</table>\n",
       "</div>"
      ],
      "text/plain": [
       "       Date  Temperature  Windspeed  Event\n",
       "0  1/1/2019           13          6   Rain\n",
       "1  2/1/2019           11          7    Fog\n",
       "2  3/1/2019           12          8  Sunny\n",
       "3  4/1/2019            8          5   Snow\n",
       "4  5/1/2019            9          6   Rain"
      ]
     },
     "execution_count": 82,
     "metadata": {},
     "output_type": "execute_result"
    }
   ],
   "source": [
    "df=pd.DataFrame(data,columns=[\"Date\",\"Temperature\",\"Windspeed\",\"Event\"])     #assigning column names\n",
    "df"
   ]
  },
  {
   "cell_type": "markdown",
   "id": "e21847e0",
   "metadata": {},
   "source": [
    "**Creating a dataframe using a dictionary of series**"
   ]
  },
  {
   "cell_type": "code",
   "execution_count": 83,
   "id": "bcd70613",
   "metadata": {},
   "outputs": [
    {
     "data": {
      "text/html": [
       "<div>\n",
       "<style scoped>\n",
       "    .dataframe tbody tr th:only-of-type {\n",
       "        vertical-align: middle;\n",
       "    }\n",
       "\n",
       "    .dataframe tbody tr th {\n",
       "        vertical-align: top;\n",
       "    }\n",
       "\n",
       "    .dataframe thead th {\n",
       "        text-align: right;\n",
       "    }\n",
       "</style>\n",
       "<table border=\"1\" class=\"dataframe\">\n",
       "  <thead>\n",
       "    <tr style=\"text-align: right;\">\n",
       "      <th></th>\n",
       "      <th>Name</th>\n",
       "      <th>Age</th>\n",
       "      <th>Rating</th>\n",
       "    </tr>\n",
       "  </thead>\n",
       "  <tbody>\n",
       "    <tr>\n",
       "      <th>0</th>\n",
       "      <td>Tom</td>\n",
       "      <td>25</td>\n",
       "      <td>4.23</td>\n",
       "    </tr>\n",
       "    <tr>\n",
       "      <th>1</th>\n",
       "      <td>Jack</td>\n",
       "      <td>26</td>\n",
       "      <td>4.10</td>\n",
       "    </tr>\n",
       "    <tr>\n",
       "      <th>2</th>\n",
       "      <td>Steve</td>\n",
       "      <td>25</td>\n",
       "      <td>3.40</td>\n",
       "    </tr>\n",
       "    <tr>\n",
       "      <th>3</th>\n",
       "      <td>Ricky</td>\n",
       "      <td>35</td>\n",
       "      <td>5.00</td>\n",
       "    </tr>\n",
       "    <tr>\n",
       "      <th>4</th>\n",
       "      <td>Vin</td>\n",
       "      <td>23</td>\n",
       "      <td>2.90</td>\n",
       "    </tr>\n",
       "    <tr>\n",
       "      <th>5</th>\n",
       "      <td>James</td>\n",
       "      <td>33</td>\n",
       "      <td>4.70</td>\n",
       "    </tr>\n",
       "    <tr>\n",
       "      <th>6</th>\n",
       "      <td>Vin</td>\n",
       "      <td>31</td>\n",
       "      <td>3.10</td>\n",
       "    </tr>\n",
       "  </tbody>\n",
       "</table>\n",
       "</div>"
      ],
      "text/plain": [
       "    Name  Age  Rating\n",
       "0    Tom   25    4.23\n",
       "1   Jack   26    4.10\n",
       "2  Steve   25    3.40\n",
       "3  Ricky   35    5.00\n",
       "4    Vin   23    2.90\n",
       "5  James   33    4.70\n",
       "6    Vin   31    3.10"
      ]
     },
     "execution_count": 83,
     "metadata": {},
     "output_type": "execute_result"
    }
   ],
   "source": [
    "dic = {'Name' : pd.Series(['Tom','Jack','Steve','Ricky','Vin', 'James', 'Vin']),\n",
    "       'Age' : pd.Series([25, 26, 25, 35, 23, 33, 31]),\n",
    "       'Rating' : pd.Series([4.23, 4.1, 3.4, 5, 2.9, 4.7,3.1])}\n",
    "\n",
    "df = pd.DataFrame(dic)               #Creating a DataFrame using dictionary of Series\n",
    "df "
   ]
  },
  {
   "cell_type": "code",
   "execution_count": null,
   "id": "2b90c5cd",
   "metadata": {},
   "outputs": [],
   "source": []
  }
 ],
 "metadata": {
  "kernelspec": {
   "display_name": "Python 3 (ipykernel)",
   "language": "python",
   "name": "python3"
  },
  "language_info": {
   "codemirror_mode": {
    "name": "ipython",
    "version": 3
   },
   "file_extension": ".py",
   "mimetype": "text/x-python",
   "name": "python",
   "nbconvert_exporter": "python",
   "pygments_lexer": "ipython3",
   "version": "3.9.13"
  }
 },
 "nbformat": 4,
 "nbformat_minor": 5
}
