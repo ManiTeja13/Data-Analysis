{
 "cells": [
  {
   "cell_type": "markdown",
   "id": "d70f7522",
   "metadata": {},
   "source": [
    "# Pandas DATE TIME"
   ]
  },
  {
   "cell_type": "code",
   "execution_count": 2,
   "id": "41dc7c3a",
   "metadata": {},
   "outputs": [],
   "source": [
    "import numpy as np\n",
    "\n",
    "import pandas as pd\n",
    "import warnings \n",
    "warnings.filterwarnings(\"ignore\")"
   ]
  },
  {
   "cell_type": "code",
   "execution_count": 5,
   "id": "57ccfd24",
   "metadata": {
    "scrolled": false
   },
   "outputs": [
    {
     "data": {
      "text/html": [
       "<div>\n",
       "<style scoped>\n",
       "    .dataframe tbody tr th:only-of-type {\n",
       "        vertical-align: middle;\n",
       "    }\n",
       "\n",
       "    .dataframe tbody tr th {\n",
       "        vertical-align: top;\n",
       "    }\n",
       "\n",
       "    .dataframe thead th {\n",
       "        text-align: right;\n",
       "    }\n",
       "</style>\n",
       "<table border=\"1\" class=\"dataframe\">\n",
       "  <thead>\n",
       "    <tr style=\"text-align: right;\">\n",
       "      <th></th>\n",
       "      <th>Car</th>\n",
       "      <th>Color</th>\n",
       "      <th>Year</th>\n",
       "      <th>Rating</th>\n",
       "      <th>Date</th>\n",
       "    </tr>\n",
       "  </thead>\n",
       "  <tbody>\n",
       "    <tr>\n",
       "      <th>0</th>\n",
       "      <td>BMW</td>\n",
       "      <td>Red</td>\n",
       "      <td>1990</td>\n",
       "      <td>2.5</td>\n",
       "      <td>30/04/2023</td>\n",
       "    </tr>\n",
       "    <tr>\n",
       "      <th>1</th>\n",
       "      <td>ALTO</td>\n",
       "      <td>Yellow</td>\n",
       "      <td>1980</td>\n",
       "      <td>1.5</td>\n",
       "      <td>31/08/1999</td>\n",
       "    </tr>\n",
       "    <tr>\n",
       "      <th>2</th>\n",
       "      <td>AUDI</td>\n",
       "      <td>Black</td>\n",
       "      <td>2003</td>\n",
       "      <td>3.8</td>\n",
       "      <td>28/12/2015</td>\n",
       "    </tr>\n",
       "    <tr>\n",
       "      <th>3</th>\n",
       "      <td>MARUTI</td>\n",
       "      <td>Green</td>\n",
       "      <td>2000</td>\n",
       "      <td>9.7</td>\n",
       "      <td>29/06/2011</td>\n",
       "    </tr>\n",
       "    <tr>\n",
       "      <th>4</th>\n",
       "      <td>HONDA</td>\n",
       "      <td>Black</td>\n",
       "      <td>2001</td>\n",
       "      <td>8.9</td>\n",
       "      <td>30/12/2020</td>\n",
       "    </tr>\n",
       "  </tbody>\n",
       "</table>\n",
       "</div>"
      ],
      "text/plain": [
       "      Car   Color  Year Rating        Date\n",
       "0     BMW     Red  1990    2.5  30/04/2023\n",
       "1    ALTO  Yellow  1980    1.5  31/08/1999\n",
       "2    AUDI   Black  2003    3.8  28/12/2015\n",
       "3  MARUTI   Green  2000    9.7  29/06/2011\n",
       "4   HONDA   Black  2001    8.9  30/12/2020"
      ]
     },
     "execution_count": 5,
     "metadata": {},
     "output_type": "execute_result"
    }
   ],
   "source": [
    "\n",
    "data = {\"Car\": [\"BMW\", \"ALTO\", \"AUDI\",\"MARUTI\", \"HONDA\", \"HYUNDAI\", \"FORD\", \"KIA\"],\\\n",
    "     \"Color\": [\"Red\", \"Yellow\", \"Black\", \"Green\", \"Black\", \"Red\", \"Black\", \"Black\"],\\\n",
    "     \"Year\": [\"1990\", \"1980\", \"2003\", \"2000\", \"2001\", \"2004\", \"1999\", \"2020\"],\\\n",
    "     \"Rating\": [\"2.5\", \"1.5\", \"3.8\", \"9.7\", \"8.9\", \"3.2\", \"5.5\", \"6.9\"],\\\n",
    "     \"Date\": [\"30/04/2023\", \"31/08/1999\", \"28/12/2015\", \"29/06/2011\",\\\n",
    "                 \"30/12/2020\", \"31/07/2013\", \"28/11/2000\", \"25/12/2020\"]}\n",
    "df = pd.DataFrame(data)\n",
    "df.head()"
   ]
  },
  {
   "cell_type": "code",
   "execution_count": 6,
   "id": "a03e5cc6",
   "metadata": {},
   "outputs": [
    {
     "name": "stdout",
     "output_type": "stream",
     "text": [
      "<class 'pandas.core.frame.DataFrame'>\n",
      "RangeIndex: 8 entries, 0 to 7\n",
      "Data columns (total 5 columns):\n",
      " #   Column  Non-Null Count  Dtype \n",
      "---  ------  --------------  ----- \n",
      " 0   Car     8 non-null      object\n",
      " 1   Color   8 non-null      object\n",
      " 2   Year    8 non-null      object\n",
      " 3   Rating  8 non-null      object\n",
      " 4   Date    8 non-null      object\n",
      "dtypes: object(5)\n",
      "memory usage: 448.0+ bytes\n"
     ]
    }
   ],
   "source": [
    "df.info()"
   ]
  },
  {
   "cell_type": "code",
   "execution_count": 9,
   "id": "e2589f2a",
   "metadata": {},
   "outputs": [],
   "source": [
    "\n",
    "#Reset the column Issue Date to be a datetime\n",
    "\n",
    "df[\"Date\"] = pd.to_datetime(df[\"Date\"]) \n",
    "#Lets convert the Date column to be a datetime and not a string! "
   ]
  },
  {
   "cell_type": "code",
   "execution_count": 10,
   "id": "afdbb737",
   "metadata": {},
   "outputs": [
    {
     "name": "stdout",
     "output_type": "stream",
     "text": [
      "<class 'pandas.core.frame.DataFrame'>\n",
      "RangeIndex: 8 entries, 0 to 7\n",
      "Data columns (total 5 columns):\n",
      " #   Column  Non-Null Count  Dtype         \n",
      "---  ------  --------------  -----         \n",
      " 0   Car     8 non-null      object        \n",
      " 1   Color   8 non-null      object        \n",
      " 2   Year    8 non-null      object        \n",
      " 3   Rating  8 non-null      object        \n",
      " 4   Date    8 non-null      datetime64[ns]\n",
      "dtypes: datetime64[ns](1), object(4)\n",
      "memory usage: 448.0+ bytes\n"
     ]
    }
   ],
   "source": [
    "df.info()    #now datetime64[ns] is a datetime datatype in pandas"
   ]
  },
  {
   "cell_type": "markdown",
   "id": "c44b0936",
   "metadata": {},
   "source": [
    "## date_range()\n",
    "- ##### pandas.date_range() is one of the general functions in Pandas which is used to return a fixed frequency DatetimeIndex."
   ]
  },
  {
   "cell_type": "code",
   "execution_count": 11,
   "id": "e1e0095b",
   "metadata": {},
   "outputs": [
    {
     "name": "stdout",
     "output_type": "stream",
     "text": [
      "DatetimeIndex(['2000-01-11', '2000-01-12', '2000-01-13', '2000-01-14',\n",
      "               '2000-01-15'],\n",
      "              dtype='datetime64[ns]', freq='D')\n"
     ]
    }
   ],
   "source": [
    "# Day wise\n",
    "print(pd.date_range('2000/1/11', periods=5))"
   ]
  },
  {
   "cell_type": "code",
   "execution_count": 12,
   "id": "107eacaf",
   "metadata": {},
   "outputs": [
    {
     "name": "stdout",
     "output_type": "stream",
     "text": [
      "DatetimeIndex(['2011-12-31', '2012-12-31', '2013-12-31', '2014-12-31',\n",
      "               '2015-12-31'],\n",
      "              dtype='datetime64[ns]', freq='A-DEC')\n"
     ]
    }
   ],
   "source": [
    "#Month wise\n",
    "print(pd.date_range('1/1/2011', periods=5,freq='Y'))"
   ]
  },
  {
   "cell_type": "code",
   "execution_count": 13,
   "id": "f02c3a00",
   "metadata": {},
   "outputs": [
    {
     "name": "stdout",
     "output_type": "stream",
     "text": [
      "Start : 2011-01-01 00:00:00\n",
      "Stop : 2011-01-20 00:00:00\n",
      "DatetimeIndex(['2011-01-01', '2011-01-02', '2011-01-03', '2011-01-04',\n",
      "               '2011-01-05', '2011-01-06', '2011-01-07', '2011-01-08',\n",
      "               '2011-01-09', '2011-01-10', '2011-01-11', '2011-01-12',\n",
      "               '2011-01-13', '2011-01-14', '2011-01-15', '2011-01-16',\n",
      "               '2011-01-17', '2011-01-18', '2011-01-19', '2011-01-20'],\n",
      "              dtype='datetime64[ns]', freq='D')\n"
     ]
    }
   ],
   "source": [
    "#Create  a datetime datatype with specified intervals\n",
    "\n",
    "start = pd.datetime(2011, 1, 1)\n",
    "print('Start :',start)\n",
    "\n",
    "end = pd.datetime(2011, 1, 20)\n",
    "print(\"Stop :\",end)\n",
    "\n",
    "print(pd.date_range(start, end))"
   ]
  },
  {
   "cell_type": "code",
   "execution_count": 14,
   "id": "bfa9595b",
   "metadata": {},
   "outputs": [],
   "source": [
    "#Creating a datframe With date column\n",
    "\n",
    "df = pd.DataFrame({'name': ['Tom', 'Andy', 'Lucas'],\n",
    "                 'DoB': ['08-05-1997', '04-28-1996', '12/16/1995']})"
   ]
  },
  {
   "cell_type": "code",
   "execution_count": 15,
   "id": "7853d33c",
   "metadata": {},
   "outputs": [
    {
     "data": {
      "text/html": [
       "<div>\n",
       "<style scoped>\n",
       "    .dataframe tbody tr th:only-of-type {\n",
       "        vertical-align: middle;\n",
       "    }\n",
       "\n",
       "    .dataframe tbody tr th {\n",
       "        vertical-align: top;\n",
       "    }\n",
       "\n",
       "    .dataframe thead th {\n",
       "        text-align: right;\n",
       "    }\n",
       "</style>\n",
       "<table border=\"1\" class=\"dataframe\">\n",
       "  <thead>\n",
       "    <tr style=\"text-align: right;\">\n",
       "      <th></th>\n",
       "      <th>name</th>\n",
       "      <th>DoB</th>\n",
       "    </tr>\n",
       "  </thead>\n",
       "  <tbody>\n",
       "    <tr>\n",
       "      <th>0</th>\n",
       "      <td>Tom</td>\n",
       "      <td>08-05-1997</td>\n",
       "    </tr>\n",
       "    <tr>\n",
       "      <th>1</th>\n",
       "      <td>Andy</td>\n",
       "      <td>04-28-1996</td>\n",
       "    </tr>\n",
       "    <tr>\n",
       "      <th>2</th>\n",
       "      <td>Lucas</td>\n",
       "      <td>12/16/1995</td>\n",
       "    </tr>\n",
       "  </tbody>\n",
       "</table>\n",
       "</div>"
      ],
      "text/plain": [
       "    name         DoB\n",
       "0    Tom  08-05-1997\n",
       "1   Andy  04-28-1996\n",
       "2  Lucas  12/16/1995"
      ]
     },
     "execution_count": 15,
     "metadata": {},
     "output_type": "execute_result"
    }
   ],
   "source": [
    "df"
   ]
  },
  {
   "cell_type": "code",
   "execution_count": 16,
   "id": "ad5107ff",
   "metadata": {},
   "outputs": [
    {
     "data": {
      "text/html": [
       "<div>\n",
       "<style scoped>\n",
       "    .dataframe tbody tr th:only-of-type {\n",
       "        vertical-align: middle;\n",
       "    }\n",
       "\n",
       "    .dataframe tbody tr th {\n",
       "        vertical-align: top;\n",
       "    }\n",
       "\n",
       "    .dataframe thead th {\n",
       "        text-align: right;\n",
       "    }\n",
       "</style>\n",
       "<table border=\"1\" class=\"dataframe\">\n",
       "  <thead>\n",
       "    <tr style=\"text-align: right;\">\n",
       "      <th></th>\n",
       "      <th>name</th>\n",
       "      <th>DoB</th>\n",
       "    </tr>\n",
       "  </thead>\n",
       "  <tbody>\n",
       "    <tr>\n",
       "      <th>0</th>\n",
       "      <td>Tom</td>\n",
       "      <td>08-05-1997</td>\n",
       "    </tr>\n",
       "    <tr>\n",
       "      <th>1</th>\n",
       "      <td>Andy</td>\n",
       "      <td>04-28-1996</td>\n",
       "    </tr>\n",
       "    <tr>\n",
       "      <th>2</th>\n",
       "      <td>Lucas</td>\n",
       "      <td>12/16/1995</td>\n",
       "    </tr>\n",
       "  </tbody>\n",
       "</table>\n",
       "</div>"
      ],
      "text/plain": [
       "    name         DoB\n",
       "0    Tom  08-05-1997\n",
       "1   Andy  04-28-1996\n",
       "2  Lucas  12/16/1995"
      ]
     },
     "execution_count": 16,
     "metadata": {},
     "output_type": "execute_result"
    }
   ],
   "source": [
    "df"
   ]
  },
  {
   "cell_type": "code",
   "execution_count": 17,
   "id": "b667ada7",
   "metadata": {},
   "outputs": [],
   "source": [
    "#Converting date column as datetime column\n",
    "\n",
    "df['DoB'] = pd.to_datetime(df['DoB']) "
   ]
  },
  {
   "cell_type": "code",
   "execution_count": 18,
   "id": "4152b4bd",
   "metadata": {},
   "outputs": [
    {
     "data": {
      "text/plain": [
       "0    1997\n",
       "1    1996\n",
       "2    1995\n",
       "Name: DoB, dtype: int64"
      ]
     },
     "execution_count": 18,
     "metadata": {},
     "output_type": "execute_result"
    }
   ],
   "source": [
    "#To get only year values in the date column\n",
    "\n",
    "df['DoB'].dt.year"
   ]
  },
  {
   "cell_type": "code",
   "execution_count": 19,
   "id": "4298b113",
   "metadata": {},
   "outputs": [
    {
     "data": {
      "text/plain": [
       "2023"
      ]
     },
     "execution_count": 19,
     "metadata": {},
     "output_type": "execute_result"
    }
   ],
   "source": [
    "#Checking the present year\n",
    "\n",
    "today = pd.to_datetime('today')\n",
    "today.year"
   ]
  },
  {
   "cell_type": "code",
   "execution_count": 20,
   "id": "50d44086",
   "metadata": {},
   "outputs": [
    {
     "data": {
      "text/plain": [
       "0    26\n",
       "1    27\n",
       "2    28\n",
       "Name: DoB, dtype: int64"
      ]
     },
     "execution_count": 20,
     "metadata": {},
     "output_type": "execute_result"
    }
   ],
   "source": [
    "#finding the difference between the present year and year in the dataframe\n",
    "\n",
    "today.year - df['DoB'].dt.year"
   ]
  },
  {
   "cell_type": "code",
   "execution_count": 21,
   "id": "18bae984",
   "metadata": {},
   "outputs": [
    {
     "data": {
      "text/html": [
       "<div>\n",
       "<style scoped>\n",
       "    .dataframe tbody tr th:only-of-type {\n",
       "        vertical-align: middle;\n",
       "    }\n",
       "\n",
       "    .dataframe tbody tr th {\n",
       "        vertical-align: top;\n",
       "    }\n",
       "\n",
       "    .dataframe thead th {\n",
       "        text-align: right;\n",
       "    }\n",
       "</style>\n",
       "<table border=\"1\" class=\"dataframe\">\n",
       "  <thead>\n",
       "    <tr style=\"text-align: right;\">\n",
       "      <th></th>\n",
       "      <th>name</th>\n",
       "      <th>DoB</th>\n",
       "      <th>Age</th>\n",
       "    </tr>\n",
       "  </thead>\n",
       "  <tbody>\n",
       "    <tr>\n",
       "      <th>0</th>\n",
       "      <td>Tom</td>\n",
       "      <td>1997-08-05</td>\n",
       "      <td>26</td>\n",
       "    </tr>\n",
       "    <tr>\n",
       "      <th>1</th>\n",
       "      <td>Andy</td>\n",
       "      <td>1996-04-28</td>\n",
       "      <td>27</td>\n",
       "    </tr>\n",
       "    <tr>\n",
       "      <th>2</th>\n",
       "      <td>Lucas</td>\n",
       "      <td>1995-12-16</td>\n",
       "      <td>28</td>\n",
       "    </tr>\n",
       "  </tbody>\n",
       "</table>\n",
       "</div>"
      ],
      "text/plain": [
       "    name        DoB  Age\n",
       "0    Tom 1997-08-05   26\n",
       "1   Andy 1996-04-28   27\n",
       "2  Lucas 1995-12-16   28"
      ]
     },
     "execution_count": 21,
     "metadata": {},
     "output_type": "execute_result"
    }
   ],
   "source": [
    "#Creating new column on the difference years\n",
    "\n",
    "df[\"Age\"] = today.year - df['DoB'].dt.year\n",
    "df"
   ]
  },
  {
   "cell_type": "code",
   "execution_count": 22,
   "id": "7eb07fb9",
   "metadata": {},
   "outputs": [
    {
     "name": "stdout",
     "output_type": "stream",
     "text": [
      "<class 'pandas.core.frame.DataFrame'>\n",
      "RangeIndex: 3 entries, 0 to 2\n",
      "Data columns (total 3 columns):\n",
      " #   Column  Non-Null Count  Dtype         \n",
      "---  ------  --------------  -----         \n",
      " 0   name    3 non-null      object        \n",
      " 1   DoB     3 non-null      datetime64[ns]\n",
      " 2   Age     3 non-null      int64         \n",
      "dtypes: datetime64[ns](1), int64(1), object(1)\n",
      "memory usage: 200.0+ bytes\n"
     ]
    }
   ],
   "source": [
    "df.info()"
   ]
  },
  {
   "cell_type": "code",
   "execution_count": 23,
   "id": "22acbd6e",
   "metadata": {},
   "outputs": [
    {
     "data": {
      "text/plain": [
       "0   1997-08-05\n",
       "1   1996-04-28\n",
       "2   1995-12-16\n",
       "Name: DoB, dtype: datetime64[ns]"
      ]
     },
     "execution_count": 23,
     "metadata": {},
     "output_type": "execute_result"
    }
   ],
   "source": [
    "df[\"DoB\"]"
   ]
  },
  {
   "cell_type": "code",
   "execution_count": 24,
   "id": "23f9421e",
   "metadata": {},
   "outputs": [
    {
     "data": {
      "text/plain": [
       "0    1997\n",
       "1    1996\n",
       "2    1995\n",
       "Name: DoB, dtype: int64"
      ]
     },
     "execution_count": 24,
     "metadata": {},
     "output_type": "execute_result"
    }
   ],
   "source": [
    "df['DoB'].dt.year        #Checking year  "
   ]
  },
  {
   "cell_type": "code",
   "execution_count": 25,
   "id": "70eab168",
   "metadata": {},
   "outputs": [
    {
     "data": {
      "text/plain": [
       "0     5\n",
       "1    28\n",
       "2    16\n",
       "Name: DoB, dtype: int64"
      ]
     },
     "execution_count": 25,
     "metadata": {},
     "output_type": "execute_result"
    }
   ],
   "source": [
    "df['DoB'].dt.day          #Checking day "
   ]
  },
  {
   "cell_type": "code",
   "execution_count": 26,
   "id": "52b7206a",
   "metadata": {},
   "outputs": [
    {
     "data": {
      "text/plain": [
       "0     8\n",
       "1     4\n",
       "2    12\n",
       "Name: DoB, dtype: int64"
      ]
     },
     "execution_count": 26,
     "metadata": {},
     "output_type": "execute_result"
    }
   ],
   "source": [
    "df['DoB'].dt.month        #Checking month"
   ]
  },
  {
   "cell_type": "code",
   "execution_count": 27,
   "id": "a7f66a7a",
   "metadata": {},
   "outputs": [
    {
     "data": {
      "text/plain": [
       "0    32\n",
       "1    17\n",
       "2    50\n",
       "Name: DoB, dtype: int64"
      ]
     },
     "execution_count": 27,
     "metadata": {},
     "output_type": "execute_result"
    }
   ],
   "source": [
    "df['DoB'].dt.week          #Checking no.of week in the year"
   ]
  },
  {
   "cell_type": "code",
   "execution_count": 28,
   "id": "217cc4b8",
   "metadata": {},
   "outputs": [
    {
     "data": {
      "text/plain": [
       "0     Tuesday\n",
       "1      Sunday\n",
       "2    Saturday\n",
       "Name: DoB, dtype: object"
      ]
     },
     "execution_count": 28,
     "metadata": {},
     "output_type": "execute_result"
    }
   ],
   "source": [
    "df['DoB'].dt.day_name()        #Checking the day_name "
   ]
  },
  {
   "cell_type": "code",
   "execution_count": 29,
   "id": "8ea0b43d",
   "metadata": {},
   "outputs": [
    {
     "data": {
      "text/plain": [
       "Timestamp('2023-05-30 16:30:59.215421')"
      ]
     },
     "execution_count": 29,
     "metadata": {},
     "output_type": "execute_result"
    }
   ],
   "source": [
    "#Checking the present date and time\n",
    "\n",
    "today = pd.to_datetime('today')\n",
    "today"
   ]
  },
  {
   "cell_type": "code",
   "execution_count": 30,
   "id": "b76b9af6",
   "metadata": {},
   "outputs": [
    {
     "data": {
      "text/plain": [
       "2023"
      ]
     },
     "execution_count": 30,
     "metadata": {},
     "output_type": "execute_result"
    }
   ],
   "source": [
    "today.year"
   ]
  },
  {
   "cell_type": "code",
   "execution_count": 31,
   "id": "1180a4b0",
   "metadata": {},
   "outputs": [
    {
     "data": {
      "text/plain": [
       "'Tuesday'"
      ]
     },
     "execution_count": 31,
     "metadata": {},
     "output_type": "execute_result"
    }
   ],
   "source": [
    "today.day_name()       #Checking the today day_name"
   ]
  },
  {
   "cell_type": "code",
   "execution_count": null,
   "id": "8453d412",
   "metadata": {},
   "outputs": [],
   "source": []
  }
 ],
 "metadata": {
  "kernelspec": {
   "display_name": "Python 3 (ipykernel)",
   "language": "python",
   "name": "python3"
  },
  "language_info": {
   "codemirror_mode": {
    "name": "ipython",
    "version": 3
   },
   "file_extension": ".py",
   "mimetype": "text/x-python",
   "name": "python",
   "nbconvert_exporter": "python",
   "pygments_lexer": "ipython3",
   "version": "3.9.13"
  }
 },
 "nbformat": 4,
 "nbformat_minor": 5
}
