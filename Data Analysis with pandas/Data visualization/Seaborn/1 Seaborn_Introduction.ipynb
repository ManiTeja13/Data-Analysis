{
 "cells": [
  {
   "cell_type": "markdown",
   "id": "27520b45",
   "metadata": {},
   "source": [
    "# Seaborn"
   ]
  },
  {
   "cell_type": "markdown",
   "id": "c9c82e27",
   "metadata": {},
   "source": [
    "- Seaborn is a Python library for data visualization built on Matplotlib. Matplotlib is used to plot 2D and 3D graphs, while Seaborn is used to plot statistical graphs. Seaborn’s main goal is to easily draw graphs used for statistical data analysis. To show this, let’s load the iris dataset with the load_dataset method in Seaborn."
   ]
  },
  {
   "cell_type": "markdown",
   "id": "ebc0435c",
   "metadata": {},
   "source": [
    "## Seaborn vs Matplotlib\n",
    "\n",
    "- Matplotlib is an important library for visualizing data. But you can’t plot advanced graphics using this library alone. Matplotlib library has some shortcomings. Matplotlib has low-level APIs and requires more code for advanced graphics. Another problem of Matplotlib emerged about 10 years before Pandas, so it was not designed to use DataFrame, an important data structure of Pandas.\n",
    "\n",
    "- Because of these problems, Seaborn library was developed. This library is built on Matplotlib and allows for easier visualization of graphs."
   ]
  },
  {
   "cell_type": "markdown",
   "id": "f5f9b5c5",
   "metadata": {},
   "source": [
    "### Installation\n",
    "\n",
    "- in order to install matplotlib library use following syntax\n",
    "\n",
    "- `syntax`:  pip install seaborn"
   ]
  },
  {
   "cell_type": "code",
   "execution_count": 5,
   "id": "31ccbca4",
   "metadata": {},
   "outputs": [],
   "source": [
    "#pip install seaborn "
   ]
  },
  {
   "cell_type": "markdown",
   "id": "b58d2527",
   "metadata": {},
   "source": [
    "- After the installation of the Matplotlib on the system you can easily check whether Matplotlib is installed or not. "
   ]
  },
  {
   "cell_type": "code",
   "execution_count": 6,
   "id": "502480bd",
   "metadata": {},
   "outputs": [
    {
     "name": "stdout",
     "output_type": "stream",
     "text": [
      "0.11.2\n"
     ]
    }
   ],
   "source": [
    "import seaborn\n",
    "print(seaborn.__version__)"
   ]
  },
  {
   "cell_type": "markdown",
   "id": "c632c3f4",
   "metadata": {},
   "source": [
    "### importing Seaborn library "
   ]
  },
  {
   "cell_type": "code",
   "execution_count": 7,
   "id": "b39dd796",
   "metadata": {},
   "outputs": [],
   "source": [
    "import seaborn as sns"
   ]
  },
  {
   "cell_type": "code",
   "execution_count": 11,
   "id": "49b32b15",
   "metadata": {},
   "outputs": [],
   "source": [
    "#ignoring warnings\n",
    "\n",
    "import warnings\n",
    "warnings.filterwarnings(\"ignore\")"
   ]
  },
  {
   "cell_type": "code",
   "execution_count": 12,
   "id": "7b479b63",
   "metadata": {},
   "outputs": [],
   "source": [
    "x=[\"A\",\"B\",\"C\",\"D\"]\n",
    "y=[10,20,30,40]"
   ]
  },
  {
   "cell_type": "code",
   "execution_count": 18,
   "id": "2cca1d19",
   "metadata": {},
   "outputs": [
    {
     "data": {
      "text/plain": [
       "<AxesSubplot:>"
      ]
     },
     "execution_count": 18,
     "metadata": {},
     "output_type": "execute_result"
    },
    {
     "data": {
      "image/png": "[encoded data removed]",
      "text/plain": [
       "<Figure size 640x480 with 1 Axes>"
      ]
     },
     "metadata": {},
     "output_type": "display_data"
    }
   ],
   "source": [
    "#Creating barplot using seaborn\n",
    "\n",
    "sns.barplot(x,y)\n"
   ]
  },
  {
   "cell_type": "markdown",
   "id": "84a5f359",
   "metadata": {},
   "source": [
    "- Seaborn has some themes you can use. You can control these themes with the `set_theme` method. Let’s control themes with the `rc` parameter."
   ]
  },
  {
   "cell_type": "code",
   "execution_count": 33,
   "id": "0154a02b",
   "metadata": {},
   "outputs": [],
   "source": [
    "sns.set_theme()\n",
    "# For the image quality of the graphic. \n",
    "sns.set(rc={\"figure.dpi\":300})\n",
    "# For the size of the graphics\n",
    "sns.set(rc = {\"figure.figsize\":(3,2)})"
   ]
  },
  {
   "cell_type": "code",
   "execution_count": 34,
   "id": "2b0bf05a",
   "metadata": {},
   "outputs": [
    {
     "data": {
      "text/plain": [
       "<AxesSubplot:>"
      ]
     },
     "execution_count": 34,
     "metadata": {},
     "output_type": "execute_result"
    },
    {
     "data": {
      "image/png": "[encoded data removed]",
      "text/plain": [
       "<Figure size 900x600 with 1 Axes>"
      ]
     },
     "metadata": {},
     "output_type": "display_data"
    }
   ],
   "source": [
    "sns.barplot(x,y)"
   ]
  },
  {
   "cell_type": "markdown",
   "id": "13c9c026",
   "metadata": {},
   "source": [
    "- The process of cleaning, transforming, visualizing, and analyzing the data to gain valuable insights to make more effective business decisions is known as `Data Analysis`."
   ]
  },
  {
   "cell_type": "markdown",
   "id": "f026b6f0",
   "metadata": {},
   "source": [
    "**Exploratory Data Analysis**"
   ]
  },
  {
   "cell_type": "markdown",
   "id": "58ecde36",
   "metadata": {},
   "source": [
    "**Univariate Analysis**\n",
    "\n",
    "-  The most basic form of the data analysis technique. When we want to understand the data contained by only one variable and don’t want to deal with the causes or effect relationships then a Univariate analysis technique is used.\n",
    "\n",
    "- Univariate Analysis can be done on single Variable \n",
    "   - Continuous Variables\n",
    "   - Categorical Variables\n",
    "\n",
    "- Example for Continuous Variable:\n",
    "    - Histogram\n",
    "\n",
    "- Example for Categorical Variable\n",
    "    - Count plot"
   ]
  },
  {
   "cell_type": "markdown",
   "id": "53b7701b",
   "metadata": {},
   "source": [
    "**Bivariate Analysis**\n",
    "\n",
    "- Bivariate analysis is slightly more analytical than Univariate analysis. When the data set contains two variables and researchers aim to undertake comparisons between the two data set then Bivariate analysis is the right type of analysis technique.\n",
    "\n",
    "- Bivariate Analysis can be done on two Variables.\n",
    "   - Continuous Variable vs Continuous Variable\n",
    "   - Categorical Variable vs Categorical Variable\n",
    "   - Continuous Variable vs Categorical Variable\n",
    "\n",
    "- Example for Continuous Variable vs Continuous Variable:\n",
    "   - Scatter plot\n",
    "\n",
    "- Example for Categorical Variable vs Categorical Variable:\n",
    "   - Stacked bar plot\n",
    "\n",
    "- Example for Continuous Variable vs Categorical Variable:\n",
    "   - Bar plot\n"
   ]
  },
  {
   "cell_type": "markdown",
   "id": "9b8ae837",
   "metadata": {},
   "source": [
    "**Multivariate Analysis**\n",
    "\n",
    "- Multivariate analysis is a more complex form of a statistical analysis technique and is used when there are more than two variables in the data set.\n",
    "\n",
    "- Here, we will try to see relations between continuous variables.\n",
    "\n",
    "- Example for multivariate analysis:\n",
    "   - Pair plot\n"
   ]
  },
  {
   "cell_type": "code",
   "execution_count": null,
   "id": "ec7dae6b",
   "metadata": {},
   "outputs": [],
   "source": []
  },
  {
   "cell_type": "code",
   "execution_count": null,
   "id": "763255ab",
   "metadata": {},
   "outputs": [],
   "source": []
  },
  {
   "cell_type": "code",
   "execution_count": null,
   "id": "4da64f2d",
   "metadata": {},
   "outputs": [],
   "source": []
  },
  {
   "cell_type": "code",
   "execution_count": null,
   "id": "9502e343",
   "metadata": {},
   "outputs": [],
   "source": []
  }
 ],
 "metadata": {
  "kernelspec": {
   "display_name": "Python 3 (ipykernel)",
   "language": "python",
   "name": "python3"
  },
  "language_info": {
   "codemirror_mode": {
    "name": "ipython",
    "version": 3
   },
   "file_extension": ".py",
   "mimetype": "text/x-python",
   "name": "python",
   "nbconvert_exporter": "python",
   "pygments_lexer": "ipython3",
   "version": "3.9.13"
  }
 },
 "nbformat": 4,
 "nbformat_minor": 5
}
