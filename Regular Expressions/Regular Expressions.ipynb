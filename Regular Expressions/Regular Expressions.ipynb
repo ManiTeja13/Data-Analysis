{
 "cells": [
  {
   "cell_type": "markdown",
   "id": "c894d070",
   "metadata": {},
   "source": [
    "## Regular Expression\n",
    "\n",
    "A regular expression, often called a pattern, is **an expression used to specify a set of strings** required for a particular purpose. \n",
    "\n",
    "- A simple way to specify a finite set of strings is to list its elements or members. <br>For example `{Doc1,1,Doc2,2,Doc3,3}`. \n",
    "    \n",
    "\n",
    "`{Doc1,Doc2,Doc3}` can be specified by the pattern `Doc(1|2|3)`. <br>We say that this pattern matches each of the two strings. [Lets check?](https://regex101.com/)\n",
    "\n",
    "> In most formalisms, if there exists at least one regular expression that matches a particular set then there exists an infinite number of other regular expressions that also match it, i.e. **the specification is not unique**.<br>\n",
    "For example, the string set `{Doc1,Doc2,Doc3}` can also be specified by the pattern `Doc\\d`.\n",
    "\n"
   ]
  },
  {
   "cell_type": "markdown",
   "id": "860bfa85",
   "metadata": {},
   "source": [
    "## Uses of Regular Expressions\n",
    "\n",
    "**Some important usages of regular expressions are:**\n",
    "\n",
    "- Check if an input honors a given pattern; for example, we can check whether a value entered in a HTML formulary is a valid e-mail address\n",
    "> `Maniteja123@gmail.com`\n",
    "\n",
    "- Look for a pattern appearance in a piece of text; for example, check if either the word \"color\" or the word \"colour\" appears in a document with just **one scan**\n",
    "> `I like Red color and i am wearing a Red colour shirt`\n",
    "\n",
    "- Extract specific portions of a text; for example, extract the postal code of an address\n",
    "> `Mr John Smith. 132, My Street, Kingston, New York 12401.`\n",
    "\n",
    "- Replace portions of text; for example, change the appearance of \"color\" with \"colour\"\n",
    "> `I like Red colour and i am wearing a Red colour shirt`\n",
    "\n",
    "- Split a larger text into smaller pieces, for example, splitting a text by any appearance of the dot, comma, or newline characters\n",
    "> `myself person1,you are person2`"
   ]
  },
  {
   "cell_type": "markdown",
   "id": "10298e30",
   "metadata": {},
   "source": [
    "# Meta Characters\n",
    "\n",
    "- All meta characters. `^ $ * + ? { } \\ | ( ) `\n",
    "\n",
    "  1. `.` any character (except new line character)\n",
    "  2. `^` startswith `^word`\n",
    "  3. `$` endswith `word$`\n",
    "  4. `*` zero or more occurrences\n",
    "  5. `+` one or more occurrences\n",
    "  6. `{}` exactly specified no of occurrences \"M{2}\"\n",
    "  7. `[]` A set of characters \"[a-c]\"\n",
    "  8. `\\` Signals a special sequence (can also be used to escape special characters) \"\\d\"\n",
    "  9. `|` Either or \"apple|iphone\"\n",
    "  10. `()` Capture and group"
   ]
  },
  {
   "cell_type": "markdown",
   "id": "030f63f8",
   "metadata": {},
   "source": [
    "# Special Sequences\n",
    "- A special sequence is a \\ followed by one of the characters in the list below, and has a special       meaning:\n",
    "\n",
    "  1. `\\d` : Matches any decimal digit; this is equivalent to the class [0-9].\n",
    "  2. `\\D` : Matches any non-digit character; this is equivalent to the class [^0-9].\n",
    "  3. `\\s` : Matches any whitespace character, next line character(\\n) or tab(\\t);\n",
    "  4. `\\S` : Matches any non-whitespace character;\n",
    "  5. `\\w` : Matches any alphanumeric (word) character; this is equivalent to the class [a-zA-Z0-9_].\n",
    "  6. `\\W` : Matches any non-alphanumeric character; this is equivalent to the class [^a-zA-Z0-9_]."
   ]
  },
  {
   "cell_type": "markdown",
   "id": "4bbcb051",
   "metadata": {},
   "source": [
    "#### Some examples for set \n",
    " 1. `[arn]` Returns a match where one of the specified characters (a, r, or n) are present\n",
    " 2. `[a-n]` Returns a match for any lower case character, alphabetically between a and n\n",
    " 3. `[^arn]` Returns a match for any character EXCEPT a, r, and n\n",
    " 4. `[0123]` Returns a match where any of the specified digits (0, 1, 2, or 3) are present\n",
    " 5. `[0-9]` Returns a match for any digit between 0 and 9\n",
    " 6. `0-5` Returns a match for any two-digit numbers from 00 and 59\n",
    " 7. `[a-zA-Z]` Returns a match for any character alphabetically between a and z, lower case OR upper      case"
   ]
  },
  {
   "cell_type": "markdown",
   "id": "1dc3e898",
   "metadata": {},
   "source": [
    "# Getting started with RegEx in Python\n",
    "\n",
    "The **[re](https://docs.python.org/3/howto/regex.html)** module provides an interface to the regular expression engine, allowing you to **compile regular expressions into objects and then perform matches with them**."
   ]
  },
  {
   "cell_type": "code",
   "execution_count": 1,
   "id": "d13811d9",
   "metadata": {},
   "outputs": [],
   "source": [
    "import re"
   ]
  },
  {
   "cell_type": "markdown",
   "id": "abe0006f",
   "metadata": {},
   "source": [
    "## 1. Compiling Regular Expressions\n",
    "\n",
    "Regular expressions are **compiled** into `Pattern` objects, which have methods for various operations such as searching for pattern matches or performing string substitutions.\n",
    "\n",
    "\n",
    "### `re.compile(pattern, flags=0)`\n",
    "\n",
    "Compile a regular expression pattern, returning a pattern object.\n",
    "\n",
    "- The regular expression is passed to `re.compile()` as a **string**. \n",
    "\n",
    "> Regular expressions are handled as strings because regular expressions aren’t part of the core Python language, and no special syntax was created for expressing them. \n",
    "\n",
    "> Regular expression patterns are compiled into a series of bytecodes which are then executed by a matching engine written in C."
   ]
  },
  {
   "cell_type": "code",
   "execution_count": 56,
   "id": "37149540",
   "metadata": {},
   "outputs": [],
   "source": [
    "pattern = re.compile(\"python\",flags=1)"
   ]
  },
  {
   "cell_type": "code",
   "execution_count": 57,
   "id": "d3dc2fbf",
   "metadata": {},
   "outputs": [
    {
     "data": {
      "text/plain": [
       "re.compile(r'python', re.TEMPLATE|re.UNICODE)"
      ]
     },
     "execution_count": 57,
     "metadata": {},
     "output_type": "execute_result"
    }
   ],
   "source": [
    "pattern"
   ]
  },
  {
   "cell_type": "code",
   "execution_count": 60,
   "id": "3efaf23d",
   "metadata": {},
   "outputs": [],
   "source": [
    "pattern1=\"python\""
   ]
  },
  {
   "cell_type": "code",
   "execution_count": 61,
   "id": "c924e67a",
   "metadata": {},
   "outputs": [],
   "source": [
    "a=\"i am learning python\""
   ]
  },
  {
   "cell_type": "code",
   "execution_count": 62,
   "id": "b4a28ebb",
   "metadata": {},
   "outputs": [
    {
     "data": {
      "text/plain": [
       "['python']"
      ]
     },
     "execution_count": 62,
     "metadata": {},
     "output_type": "execute_result"
    }
   ],
   "source": [
    "re.findall(pattern1,a)"
   ]
  },
  {
   "cell_type": "markdown",
   "id": "5c0c4432",
   "metadata": {},
   "source": [
    "- `re.compile()` also accepts an optional `flags` argument, used to enable various special features and syntax variations. [More about flags](http://xahlee.info/python/python_regex_flags.html)\n",
    "\n",
    "<br>\n",
    "\n",
    "In the example below, we use the flag `re.I` (short for `re.IGNORECASE`) to ignore letter case in the regex pattern."
   ]
  },
  {
   "cell_type": "markdown",
   "id": "1636c883",
   "metadata": {},
   "source": [
    "## 2. Performing Matches\n",
    "\n",
    "So, we have created a `Pattern` object representing a compiled regular expression using `re.compile()` method.\n",
    "\n",
    "Pattern objects have several methods and attributes.\n",
    "\n",
    "Here is the list of different methods used for performing matches:\n",
    "\n",
    "\n",
    "<table style=\"border: 1px solid black; font-size:15px;\">\n",
    "<thead>\n",
    "    <th>Method/Attribute</th>\n",
    "    <th>Purpose</th>\n",
    "</thead>\n",
    "    \n",
    "<tbody>\n",
    "<tr>\n",
    "    <td>match()</td>\n",
    "    <td>Determine if the RE matches at the beginning of the string.</td>\n",
    "</tr>\n",
    "    \n",
    "<tr>\n",
    "    <td>search()</td>\n",
    "    <td>Scan through a string, looking for any location where this RE matches.</td>\n",
    "</tr>\n",
    "\n",
    "<tr>\n",
    "    <td>findall()</td>\n",
    "    <td>Find all substrings where the RE matches, and returns them as a list.</td>\n",
    "</tr>\n",
    "\n",
    "<tr>\n",
    "    <td>finditer()</td>\n",
    "    <td>Find all substrings where the RE matches, and returns them as an iterator.</td>\n",
    "</tr>\n",
    "</tbody>\n",
    "</table>\n",
    "\n"
   ]
  },
  {
   "cell_type": "markdown",
   "id": "c7f0799f",
   "metadata": {},
   "source": [
    "# Functions\n"
   ]
  },
  {
   "cell_type": "markdown",
   "id": "4ae20ded",
   "metadata": {},
   "source": [
    "`findall()` Returns a list containing all matches\n",
    "\n",
    "`sub()` Replaces one or many matches with a string\n",
    "\n",
    "`search()` Returns a Match object if there is a match anywhere in the string\n",
    "\n",
    "`compile()` Returns a Regex pattern object\n",
    "\n",
    "\n",
    "\n"
   ]
  },
  {
   "cell_type": "code",
   "execution_count": 2,
   "id": "5e5d264b",
   "metadata": {},
   "outputs": [],
   "source": [
    "import re"
   ]
  },
  {
   "cell_type": "markdown",
   "id": "d650b16d",
   "metadata": {},
   "source": [
    "#### re.findall()\n",
    "#### re.findall (pattern, target string)\n",
    ">  It helps to get a list of all matching patterns. It has no constraints of searching from start or end."
   ]
  },
  {
   "cell_type": "code",
   "execution_count": 63,
   "id": "ef601b59",
   "metadata": {},
   "outputs": [],
   "source": [
    "a=\"abc1234def\""
   ]
  },
  {
   "cell_type": "code",
   "execution_count": 64,
   "id": "7fffba95",
   "metadata": {},
   "outputs": [
    {
     "data": {
      "text/plain": [
       "['a', 'b', 'c', 'd', 'e', 'f']"
      ]
     },
     "execution_count": 64,
     "metadata": {},
     "output_type": "execute_result"
    }
   ],
   "source": [
    "re.findall(\"\\D\",a)"
   ]
  },
  {
   "cell_type": "code",
   "execution_count": 72,
   "id": "559514c5",
   "metadata": {},
   "outputs": [
    {
     "name": "stdout",
     "output_type": "stream",
     "text": [
      "<re.Match object; span=(0, 3), match='abc'>\n",
      "<re.Match object; span=(7, 10), match='def'>\n"
     ]
    }
   ],
   "source": [
    "for i in re.finditer(\"\\D+\",a):\n",
    "    print(i)"
   ]
  },
  {
   "cell_type": "code",
   "execution_count": 7,
   "id": "189e3bb1",
   "metadata": {},
   "outputs": [],
   "source": [
    "colleges=\"\"\"IIT Madras - Indian Institute of Technology\n",
    "4.6(202)\n",
    "Fees: ₹ 10.00 Lakh\n",
    "Salary : ₹ 16.00 Lakh\n",
    "Not Ranked\n",
    "Times ' 22\n",
    "3\n",
    "The Week ' 21\n",
    "1\n",
    "Outlook ' 20\n",
    "Admissions\n",
    "Courses & Fees\n",
    "Placements 0-5\n",
    "IIT Madras - Indian Institute of Technology\n",
    "4.1(202)\n",
    "Fees: ₹ 10.00 Lakh\n",
    "Salary : ₹ 16.00 Lakh\n",
    "Not Ranked\n",
    "Times ' 22\n",
    "3\n",
    "The Week ' 21\n",
    "1\n",
    "Outlook ' 20\n",
    "Admissions\n",
    "Courses & Fees\n",
    "Placements 0-5\n",
    "IIT Madras - Indian Institute of Technology\n",
    "4.4(202)\n",
    "Fees: ₹ 10.00 Lakh\n",
    "Salary : ₹ 16.00 Lakh\n",
    "Not Ranked\n",
    "Times ' 22\n",
    "3\n",
    "The Week ' 21\n",
    "1\n",
    "Outlook ' 20\n",
    "Admissions\n",
    "Courses & Fees\n",
    "Placements 0-5\"\"\""
   ]
  },
  {
   "cell_type": "code",
   "execution_count": 8,
   "id": "8ccfaabd",
   "metadata": {},
   "outputs": [
    {
     "data": {
      "text/plain": [
       "['₹ 16.00 Lakh', '₹ 16.00 Lakh', '₹ 16.00 Lakh']"
      ]
     },
     "execution_count": 8,
     "metadata": {},
     "output_type": "execute_result"
    }
   ],
   "source": [
    "#Extracting Salary of colleges\n",
    "\n",
    "re.findall(\"Salary\\s:\\s(.*)\",colleges)"
   ]
  },
  {
   "cell_type": "code",
   "execution_count": 9,
   "id": "7ddfbea6",
   "metadata": {},
   "outputs": [
    {
     "data": {
      "text/plain": [
       "['4.6', '4.1', '4.4']"
      ]
     },
     "execution_count": 9,
     "metadata": {},
     "output_type": "execute_result"
    }
   ],
   "source": [
    "#Extracting rating of colleges\n",
    "\n",
    "re.findall(\"(\\d\\.\\d)\\(\",colleges)"
   ]
  },
  {
   "cell_type": "code",
   "execution_count": 10,
   "id": "8036ecc5",
   "metadata": {},
   "outputs": [],
   "source": [
    "emails=\"\"\"maniteja@gmail.com\n",
    "mani_teja@gmail.com\n",
    "mani.teja@ gmail.com\n",
    "maniteja1234@gmail.com\n",
    "maniteja@outlook.com\n",
    "mani_teja@outlook.com\n",
    "mani.teja@outlook.com\n",
    "maniteja1234@outlook.com\n",
    "maniteja@yahoo.org\n",
    "mani_teja@yahoo.com\n",
    "mani.teja@yahoo.in\n",
    "maniteja1234@yahoo.com\n",
    "\"\"\""
   ]
  },
  {
   "cell_type": "code",
   "execution_count": 12,
   "id": "721169f9",
   "metadata": {},
   "outputs": [
    {
     "data": {
      "text/plain": [
       "['mani.teja@ gmail.com']"
      ]
     },
     "execution_count": 12,
     "metadata": {},
     "output_type": "execute_result"
    }
   ],
   "source": [
    "#Extracting email with space after @\n",
    "\n",
    "re.findall(\"\\w+\\W\\w+\\W\\s\\w+\\W\\w+\",emails)"
   ]
  },
  {
   "cell_type": "code",
   "execution_count": 14,
   "id": "f33e09ab",
   "metadata": {},
   "outputs": [
    {
     "data": {
      "text/plain": [
       "['maniteja',\n",
       " 'mani_teja',\n",
       " 'mani.teja',\n",
       " 'maniteja1234',\n",
       " 'maniteja',\n",
       " 'mani_teja',\n",
       " 'mani.teja',\n",
       " 'maniteja1234',\n",
       " 'maniteja',\n",
       " 'mani_teja',\n",
       " 'mani.teja',\n",
       " 'maniteja1234']"
      ]
     },
     "execution_count": 14,
     "metadata": {},
     "output_type": "execute_result"
    }
   ],
   "source": [
    "#Extracting username of all emails\n",
    "\n",
    "re.findall(\"(.*)@\",emails)"
   ]
  },
  {
   "cell_type": "code",
   "execution_count": 16,
   "id": "558040c6",
   "metadata": {},
   "outputs": [
    {
     "data": {
      "text/plain": [
       "['gmail',\n",
       " 'gmail',\n",
       " 'gmail',\n",
       " 'gmail',\n",
       " 'outlook',\n",
       " 'outlook',\n",
       " 'outlook',\n",
       " 'outlook',\n",
       " 'yahoo',\n",
       " 'yahoo',\n",
       " 'yahoo',\n",
       " 'yahoo']"
      ]
     },
     "execution_count": 16,
     "metadata": {},
     "output_type": "execute_result"
    }
   ],
   "source": [
    "#Extracting domain of all emails\n",
    "\n",
    "\n",
    "re.findall(\"(gmail|outlook|yahoo)\",emails)"
   ]
  },
  {
   "cell_type": "code",
   "execution_count": 19,
   "id": "b7cfb8f2",
   "metadata": {},
   "outputs": [
    {
     "data": {
      "text/plain": [
       "['com',\n",
       " 'com',\n",
       " 'com',\n",
       " 'com',\n",
       " 'com',\n",
       " 'com',\n",
       " 'com',\n",
       " 'com',\n",
       " 'org',\n",
       " 'com',\n",
       " 'in',\n",
       " 'com']"
      ]
     },
     "execution_count": 19,
     "metadata": {},
     "output_type": "execute_result"
    }
   ],
   "source": [
    "#Extracting com,org,in of all emails\n",
    "\n",
    "re.findall(\"(com|org|in)\",emails)"
   ]
  },
  {
   "cell_type": "code",
   "execution_count": 20,
   "id": "f84e04e8",
   "metadata": {},
   "outputs": [
    {
     "data": {
      "text/plain": [
       "['maniteja@outlook.com',\n",
       " 'mani_teja@outlook.com',\n",
       " 'mani.teja@outlook.com',\n",
       " 'maniteja1234@outlook.com']"
      ]
     },
     "execution_count": 20,
     "metadata": {},
     "output_type": "execute_result"
    }
   ],
   "source": [
    "#Extracting emails of outlook \n",
    "\n",
    "re.findall(r\"(m\\w+\\W?\\w+@outlook.com)\",emails)"
   ]
  },
  {
   "cell_type": "code",
   "execution_count": 22,
   "id": "f4d51220",
   "metadata": {},
   "outputs": [],
   "source": [
    "#Extraccting all emails \n",
    "\n",
    "email_regex = '[\\w.]+@(?:gmail|yahoo|outlook)\\.(?:com|in|org)'\n",
    "emails = re.findall(email_regex, emails)"
   ]
  },
  {
   "cell_type": "code",
   "execution_count": 23,
   "id": "58961ad7",
   "metadata": {},
   "outputs": [
    {
     "data": {
      "text/plain": [
       "['maniteja@gmail.com',\n",
       " 'mani_teja@gmail.com',\n",
       " 'maniteja1234@gmail.com',\n",
       " 'maniteja@outlook.com',\n",
       " 'mani_teja@outlook.com',\n",
       " 'mani.teja@outlook.com',\n",
       " 'maniteja1234@outlook.com',\n",
       " 'maniteja@yahoo.org',\n",
       " 'mani_teja@yahoo.com',\n",
       " 'mani.teja@yahoo.in',\n",
       " 'maniteja1234@yahoo.com']"
      ]
     },
     "execution_count": 23,
     "metadata": {},
     "output_type": "execute_result"
    }
   ],
   "source": [
    "emails"
   ]
  },
  {
   "cell_type": "code",
   "execution_count": 24,
   "id": "74b6cafd",
   "metadata": {},
   "outputs": [],
   "source": [
    "phones=\"\"\"SAMSUNG Galaxy F23 5G (Forest Green, 128 GB)\n",
    "SAMSUNG Galaxy F04 (Jade Purple, 64 GB)\n",
    "POCO M3 Pro 5G (Yellow, 128 GB)\n",
    "MOTOROLA e40 (Carbon Gray, 64 GB)\n",
    "APPLE iPhone 13 (Blue, 128 GB)\n",
    "APPLE iPhone 14 (Starlight, 128 GB)\n",
    "APPLE iPhone 14 (Blue, 128 GB)\n",
    "MOTOROLA G62 5G (Midnight Gray, 128 GB)\n",
    "REDMI 10 (Pacific Blue, 64 GB)\n",
    "REDMI 10 (Caribbean Green, 64 GB)\n",
    "REDMI Note 11 SE (Cosmic White, 64 GB)\n",
    "MOTOROLA G32 (Mineral Gray, 64 GB)\n",
    "MOTOROLA G62 5G (Frosted Blue, 128 GB)\n",
    "POCO C31 (Royal Blue, 64 GB)\n",
    "MOTOROLA e40 (Pink Clay, 64 GB)\n",
    "REDMI 10 (Midnight Black, 64 GB)\n",
    "SAMSUNG Galaxy F23 5G (Copper Blush, 128 GB)\n",
    "REDMI Note 12 Pro+ 5G (Obsidian Black, 256 GB)\n",
    "SAMSUNG Galaxy F04 (Opal Green, 64 GB)\n",
    "MOTOROLA G32 (Satin Silver, 64 GB)\n",
    "POCO M4 Pro (Cool Blue, 64 GB)\n",
    "REDMI 9i Sport (Coral Green, 64 GB)\n",
    "SAMSUNG Galaxy F23 5G (Forest Green, 128 GB)\n",
    "POCO M4 Pro (Cool Blue, 128 GB)\"\"\""
   ]
  },
  {
   "cell_type": "code",
   "execution_count": 28,
   "id": "7aaebd7e",
   "metadata": {},
   "outputs": [],
   "source": [
    "#Extracting mobile Brands\n",
    "\n",
    "names=re.findall(\"([A-Z]{3,})\",phones)"
   ]
  },
  {
   "cell_type": "code",
   "execution_count": 29,
   "id": "806c87a3",
   "metadata": {},
   "outputs": [
    {
     "data": {
      "text/plain": [
       "['SAMSUNG',\n",
       " 'SAMSUNG',\n",
       " 'POCO',\n",
       " 'MOTOROLA',\n",
       " 'APPLE',\n",
       " 'APPLE',\n",
       " 'APPLE',\n",
       " 'MOTOROLA',\n",
       " 'REDMI',\n",
       " 'REDMI',\n",
       " 'REDMI',\n",
       " 'MOTOROLA',\n",
       " 'MOTOROLA',\n",
       " 'POCO',\n",
       " 'MOTOROLA',\n",
       " 'REDMI',\n",
       " 'SAMSUNG',\n",
       " 'REDMI',\n",
       " 'SAMSUNG',\n",
       " 'MOTOROLA',\n",
       " 'POCO',\n",
       " 'REDMI',\n",
       " 'SAMSUNG',\n",
       " 'POCO']"
      ]
     },
     "execution_count": 29,
     "metadata": {},
     "output_type": "execute_result"
    }
   ],
   "source": [
    "names"
   ]
  },
  {
   "cell_type": "code",
   "execution_count": 30,
   "id": "cee8349c",
   "metadata": {},
   "outputs": [
    {
     "data": {
      "text/plain": [
       "24"
      ]
     },
     "execution_count": 30,
     "metadata": {},
     "output_type": "execute_result"
    }
   ],
   "source": [
    "len(names)"
   ]
  },
  {
   "cell_type": "code",
   "execution_count": 31,
   "id": "0892cff2",
   "metadata": {},
   "outputs": [],
   "source": [
    "#Extracting storage of mobile phones\n",
    "\n",
    "storage=re.findall(\"\\s(\\d+)\\sGB\",phones)"
   ]
  },
  {
   "cell_type": "code",
   "execution_count": 32,
   "id": "cde99393",
   "metadata": {},
   "outputs": [
    {
     "data": {
      "text/plain": [
       "24"
      ]
     },
     "execution_count": 32,
     "metadata": {},
     "output_type": "execute_result"
    }
   ],
   "source": [
    "len(storage)"
   ]
  },
  {
   "cell_type": "code",
   "execution_count": 33,
   "id": "7725ee3d",
   "metadata": {},
   "outputs": [
    {
     "data": {
      "text/plain": [
       "['128',\n",
       " '64',\n",
       " '128',\n",
       " '64',\n",
       " '128',\n",
       " '128',\n",
       " '128',\n",
       " '128',\n",
       " '64',\n",
       " '64',\n",
       " '64',\n",
       " '64',\n",
       " '128',\n",
       " '64',\n",
       " '64',\n",
       " '64',\n",
       " '128',\n",
       " '256',\n",
       " '64',\n",
       " '64',\n",
       " '64',\n",
       " '64',\n",
       " '128',\n",
       " '128']"
      ]
     },
     "execution_count": 33,
     "metadata": {},
     "output_type": "execute_result"
    }
   ],
   "source": [
    "storage"
   ]
  },
  {
   "cell_type": "code",
   "execution_count": 68,
   "id": "59439b0a",
   "metadata": {},
   "outputs": [],
   "source": [
    "colors=re.findall(\"\\s\\((\\w+\\s?\\w+),\",phones)"
   ]
  },
  {
   "cell_type": "code",
   "execution_count": 69,
   "id": "e328c7ce",
   "metadata": {},
   "outputs": [
    {
     "data": {
      "text/plain": [
       "24"
      ]
     },
     "execution_count": 69,
     "metadata": {},
     "output_type": "execute_result"
    }
   ],
   "source": [
    "len(colors)"
   ]
  },
  {
   "cell_type": "code",
   "execution_count": 70,
   "id": "f315a3ea",
   "metadata": {},
   "outputs": [
    {
     "data": {
      "text/plain": [
       "['Forest Green',\n",
       " 'Jade Purple',\n",
       " 'Yellow',\n",
       " 'Carbon Gray',\n",
       " 'Blue',\n",
       " 'Starlight',\n",
       " 'Blue',\n",
       " 'Midnight Gray',\n",
       " 'Pacific Blue',\n",
       " 'Caribbean Green',\n",
       " 'Cosmic White',\n",
       " 'Mineral Gray',\n",
       " 'Frosted Blue',\n",
       " 'Royal Blue',\n",
       " 'Pink Clay',\n",
       " 'Midnight Black',\n",
       " 'Copper Blush',\n",
       " 'Obsidian Black',\n",
       " 'Opal Green',\n",
       " 'Satin Silver',\n",
       " 'Cool Blue',\n",
       " 'Coral Green',\n",
       " 'Forest Green',\n",
       " 'Cool Blue']"
      ]
     },
     "execution_count": 70,
     "metadata": {},
     "output_type": "execute_result"
    }
   ],
   "source": [
    "colors"
   ]
  },
  {
   "cell_type": "markdown",
   "id": "25b26ae6",
   "metadata": {},
   "source": [
    "**re.finditer()**\n",
    "\n",
    "- finditer only can call in iteration"
   ]
  },
  {
   "cell_type": "code",
   "execution_count": 86,
   "id": "738a0b80",
   "metadata": {},
   "outputs": [],
   "source": [
    "a=re.finditer(\"\\s(\\d+)\\sGB\",phones)"
   ]
  },
  {
   "cell_type": "code",
   "execution_count": 84,
   "id": "1b67ae31",
   "metadata": {},
   "outputs": [
    {
     "name": "stdout",
     "output_type": "stream",
     "text": [
      " 128 GB\n",
      " 64 GB\n",
      " 128 GB\n",
      " 64 GB\n",
      " 128 GB\n",
      " 128 GB\n",
      " 128 GB\n",
      " 128 GB\n",
      " 64 GB\n",
      " 64 GB\n",
      " 64 GB\n",
      " 64 GB\n",
      " 128 GB\n",
      " 64 GB\n",
      " 64 GB\n",
      " 64 GB\n",
      " 128 GB\n",
      " 256 GB\n",
      " 64 GB\n",
      " 64 GB\n",
      " 64 GB\n",
      " 64 GB\n",
      " 128 GB\n",
      " 128 GB\n"
     ]
    }
   ],
   "source": [
    "for i in a:\n",
    "    print(i.group())"
   ]
  },
  {
   "cell_type": "code",
   "execution_count": 87,
   "id": "827470b7",
   "metadata": {},
   "outputs": [
    {
     "name": "stdout",
     "output_type": "stream",
     "text": [
      " 128 GB 36 43\n",
      " 64 GB 77 83\n",
      " 128 GB 108 115\n",
      " 64 GB 143 149\n",
      " 128 GB 173 180\n",
      " 128 GB 209 216\n",
      " 128 GB 240 247\n",
      " 128 GB 280 287\n",
      " 64 GB 312 318\n",
      " 64 GB 346 352\n",
      " 64 GB 385 391\n",
      " 64 GB 420 426\n",
      " 128 GB 458 465\n",
      " 64 GB 488 494\n",
      " 64 GB 520 526\n",
      " 64 GB 553 559\n",
      " 128 GB 597 604\n",
      " 256 GB 644 651\n",
      " 64 GB 684 690\n",
      " 64 GB 719 725\n",
      " 64 GB 750 756\n",
      " 64 GB 786 792\n",
      " 128 GB 830 837\n",
      " 128 GB 862 869\n"
     ]
    }
   ],
   "source": [
    "for i in a:\n",
    "    print(i.group(),i.start(),i.end())               "
   ]
  },
  {
   "cell_type": "markdown",
   "id": "f54a3d9f",
   "metadata": {},
   "source": [
    "- `group()` --  gives you the target string \n",
    "- `start()` --  start index of match happening\n",
    "- `end()`   --  end index of match happening"
   ]
  },
  {
   "cell_type": "markdown",
   "id": "c7096e42",
   "metadata": {},
   "source": [
    "**re.sub()  -- Substitute**\n",
    "\n",
    "- Substitutes the target sub string in the string with a pattern.\n",
    "\n",
    "- `syntax`:\n",
    "\n",
    "    - `re.sub(pattern, replacement, string)`"
   ]
  },
  {
   "cell_type": "code",
   "execution_count": 89,
   "id": "dfd3f4ea",
   "metadata": {},
   "outputs": [],
   "source": [
    "sub= \"Inno123@456matics\""
   ]
  },
  {
   "cell_type": "code",
   "execution_count": 91,
   "id": "82e2f754",
   "metadata": {},
   "outputs": [
    {
     "data": {
      "text/plain": [
       "'Innomatics'"
      ]
     },
     "execution_count": 91,
     "metadata": {},
     "output_type": "execute_result"
    }
   ],
   "source": [
    "#Substituting all digits and special characters as empty string\n",
    "\n",
    "re.sub(\"[^a-zA-Z]\",\"\",sub)"
   ]
  },
  {
   "cell_type": "code",
   "execution_count": 217,
   "id": "545a9ce2",
   "metadata": {},
   "outputs": [
    {
     "data": {
      "text/plain": [
       "'abc'"
      ]
     },
     "execution_count": 217,
     "metadata": {},
     "output_type": "execute_result"
    }
   ],
   "source": [
    "re.sub(\"\\d\",\"\",a)"
   ]
  },
  {
   "cell_type": "code",
   "execution_count": 102,
   "id": "7cf45b5a",
   "metadata": {},
   "outputs": [],
   "source": [
    "sub1=\"\"\"innomatic@ Re!earch Lab#\"\"\""
   ]
  },
  {
   "cell_type": "code",
   "execution_count": 104,
   "id": "1aa03086",
   "metadata": {},
   "outputs": [
    {
     "data": {
      "text/plain": [
       "'innomatics Research Labs'"
      ]
     },
     "execution_count": 104,
     "metadata": {},
     "output_type": "execute_result"
    }
   ],
   "source": [
    "# #Substituting all  special characters as 's'\n",
    "re.sub(\"[^a-zA-Z\\s]\",'s',sub1)"
   ]
  },
  {
   "cell_type": "code",
   "execution_count": 110,
   "id": "827842b5",
   "metadata": {},
   "outputs": [],
   "source": [
    "sub2=\"\"\"maniteja@gmail.com\n",
    "mani_teja@gmail.com\n",
    "mani.teja@ gmail.in\n",
    "maniteja1234@gmail.com\n",
    "maniteja@outlook.com\n",
    "mani_teja@outlook.com\n",
    "mani.teja@outlook.com\n",
    "maniteja1234@outlook.com\n",
    "maniteja@yahoo.org\n",
    "mani_teja@yahoo.com\n",
    "mani.teja@yahoo.in\n",
    "maniteja1234@yahoo.com\n",
    "\"\"\""
   ]
  },
  {
   "cell_type": "code",
   "execution_count": 113,
   "id": "c90cbb21",
   "metadata": {},
   "outputs": [
    {
     "data": {
      "text/plain": [
       "['maniteja@gmail.com',\n",
       " 'mani_teja@gmail.com',\n",
       " 'mani.teja@ outlook.in',\n",
       " 'maniteja1234@gmail.com',\n",
       " 'maniteja@outlook.com',\n",
       " 'mani_teja@outlook.com',\n",
       " 'mani.teja@outlook.com',\n",
       " 'maniteja1234@outlook.com',\n",
       " 'maniteja@yahoo.org',\n",
       " 'mani_teja@yahoo.com',\n",
       " 'mani.teja@outlook.in',\n",
       " 'maniteja1234@yahoo.com',\n",
       " '']"
      ]
     },
     "execution_count": 113,
     "metadata": {},
     "output_type": "execute_result"
    }
   ],
   "source": [
    "#Substituting all .in emails domains has outlook\n",
    "\n",
    "re.sub(\"\\w+\\.in\",\"outlook.in\",sub2).split(\"\\n\")"
   ]
  },
  {
   "cell_type": "markdown",
   "id": "05a11a30",
   "metadata": {},
   "source": [
    "**re.search()**\n",
    "\n",
    "- search also works same as other function finding operations.\n",
    "\n",
    "- search will only give you the first match as your output."
   ]
  },
  {
   "cell_type": "code",
   "execution_count": 97,
   "id": "12f28f79",
   "metadata": {},
   "outputs": [],
   "source": [
    "a=\"a1b2c3\""
   ]
  },
  {
   "cell_type": "code",
   "execution_count": 98,
   "id": "3fcaba94",
   "metadata": {},
   "outputs": [],
   "source": [
    "aa=re.search(\"\\d\",a)"
   ]
  },
  {
   "cell_type": "code",
   "execution_count": 99,
   "id": "4e89bb06",
   "metadata": {},
   "outputs": [
    {
     "data": {
      "text/plain": [
       "<re.Match object; span=(1, 2), match='1'>"
      ]
     },
     "execution_count": 99,
     "metadata": {},
     "output_type": "execute_result"
    }
   ],
   "source": [
    "aa                     #output--  first single match"
   ]
  },
  {
   "cell_type": "code",
   "execution_count": 100,
   "id": "93c53f28",
   "metadata": {},
   "outputs": [
    {
     "data": {
      "text/plain": [
       "'1'"
      ]
     },
     "execution_count": 100,
     "metadata": {},
     "output_type": "execute_result"
    }
   ],
   "source": [
    "aa.group()"
   ]
  },
  {
   "cell_type": "markdown",
   "id": "db85bf92",
   "metadata": {},
   "source": [
    "# Using Regular Expressions in Pandas (Data Cleaning)"
   ]
  },
  {
   "cell_type": "code",
   "execution_count": 114,
   "id": "a750de0d",
   "metadata": {},
   "outputs": [],
   "source": [
    "import pandas as pd"
   ]
  },
  {
   "cell_type": "code",
   "execution_count": 120,
   "id": "39bca666",
   "metadata": {},
   "outputs": [],
   "source": [
    "df=pd.read_csv(r\"C:\\Users\\HP\\Downloads\\Data Analysis @\\text.csv\",names=[\"Label\",\"text\"])"
   ]
  },
  {
   "cell_type": "code",
   "execution_count": 121,
   "id": "276ced4e",
   "metadata": {},
   "outputs": [
    {
     "data": {
      "text/html": [
       "<div>\n",
       "<style scoped>\n",
       "    .dataframe tbody tr th:only-of-type {\n",
       "        vertical-align: middle;\n",
       "    }\n",
       "\n",
       "    .dataframe tbody tr th {\n",
       "        vertical-align: top;\n",
       "    }\n",
       "\n",
       "    .dataframe thead th {\n",
       "        text-align: right;\n",
       "    }\n",
       "</style>\n",
       "<table border=\"1\" class=\"dataframe\">\n",
       "  <thead>\n",
       "    <tr style=\"text-align: right;\">\n",
       "      <th></th>\n",
       "      <th>Label</th>\n",
       "      <th>text</th>\n",
       "    </tr>\n",
       "  </thead>\n",
       "  <tbody>\n",
       "    <tr>\n",
       "      <th>0</th>\n",
       "      <td>0</td>\n",
       "      <td>im sooo sick today...so no emery concert tonight</td>\n",
       "    </tr>\n",
       "    <tr>\n",
       "      <th>1</th>\n",
       "      <td>0</td>\n",
       "      <td>@Freebies4Mom I haven't been able to access it...</td>\n",
       "    </tr>\n",
       "    <tr>\n",
       "      <th>2</th>\n",
       "      <td>0</td>\n",
       "      <td>won't losing you</td>\n",
       "    </tr>\n",
       "    <tr>\n",
       "      <th>3</th>\n",
       "      <td>0</td>\n",
       "      <td>@GeminiTwisted I can't eat egg whites like @Da...</td>\n",
       "    </tr>\n",
       "    <tr>\n",
       "      <th>4</th>\n",
       "      <td>0</td>\n",
       "      <td>At Home Writers Block Has Set In</td>\n",
       "    </tr>\n",
       "    <tr>\n",
       "      <th>5</th>\n",
       "      <td>0</td>\n",
       "      <td>Burnt myself on my old friend the mini spring ...</td>\n",
       "    </tr>\n",
       "    <tr>\n",
       "      <th>6</th>\n",
       "      <td>0</td>\n",
       "      <td>@tommcfly http://twitpic.com/64l1e - wow thats...</td>\n",
       "    </tr>\n",
       "    <tr>\n",
       "      <th>7</th>\n",
       "      <td>0</td>\n",
       "      <td>@seneca That's a crying shame.  I never liked ...</td>\n",
       "    </tr>\n",
       "    <tr>\n",
       "      <th>8</th>\n",
       "      <td>0</td>\n",
       "      <td>@kreatture there are a few in Halifax... Ex-na...</td>\n",
       "    </tr>\n",
       "    <tr>\n",
       "      <th>9</th>\n",
       "      <td>0</td>\n",
       "      <td>Sstill happy but my feet REALLY hurt. Wish I h...</td>\n",
       "    </tr>\n",
       "    <tr>\n",
       "      <th>10</th>\n",
       "      <td>0</td>\n",
       "      <td>We are a lil under 11 hrs away from OTH's seas...</td>\n",
       "    </tr>\n",
       "    <tr>\n",
       "      <th>11</th>\n",
       "      <td>0</td>\n",
       "      <td>I just got new pants today . . . I just spille...</td>\n",
       "    </tr>\n",
       "    <tr>\n",
       "      <th>12</th>\n",
       "      <td>0</td>\n",
       "      <td>@luke not getting enough sleep and letting emo...</td>\n",
       "    </tr>\n",
       "    <tr>\n",
       "      <th>13</th>\n",
       "      <td>0</td>\n",
       "      <td>@nnorafiza @Phee78 Just read your tweets about...</td>\n",
       "    </tr>\n",
       "    <tr>\n",
       "      <th>14</th>\n",
       "      <td>0</td>\n",
       "      <td>@JamieOber Now you know, that's not what I wan...</td>\n",
       "    </tr>\n",
       "    <tr>\n",
       "      <th>15</th>\n",
       "      <td>0</td>\n",
       "      <td>@hazelcullen it went awful my monologues went ...</td>\n",
       "    </tr>\n",
       "    <tr>\n",
       "      <th>16</th>\n",
       "      <td>0</td>\n",
       "      <td>said goodbye to the Baha'is tonight     One go...</td>\n",
       "    </tr>\n",
       "    <tr>\n",
       "      <th>17</th>\n",
       "      <td>0</td>\n",
       "      <td>@celebrian then you, vanessa, and chelsea stol...</td>\n",
       "    </tr>\n",
       "    <tr>\n",
       "      <th>18</th>\n",
       "      <td>0</td>\n",
       "      <td>is looking for her friend Kassi....where are y...</td>\n",
       "    </tr>\n",
       "    <tr>\n",
       "      <th>19</th>\n",
       "      <td>0</td>\n",
       "      <td>we may not be able to get hoodies!  Someone ju...</td>\n",
       "    </tr>\n",
       "    <tr>\n",
       "      <th>20</th>\n",
       "      <td>0</td>\n",
       "      <td>I woke up this morning having made a miraculou...</td>\n",
       "    </tr>\n",
       "    <tr>\n",
       "      <th>21</th>\n",
       "      <td>0</td>\n",
       "      <td>@helga_hansen That's the problem with &amp;quot;my...</td>\n",
       "    </tr>\n",
       "    <tr>\n",
       "      <th>22</th>\n",
       "      <td>0</td>\n",
       "      <td>so sleepy waiting for the iphone update</td>\n",
       "    </tr>\n",
       "    <tr>\n",
       "      <th>23</th>\n",
       "      <td>0</td>\n",
       "      <td>@bridgers I'd love to visit you, but my car di...</td>\n",
       "    </tr>\n",
       "    <tr>\n",
       "      <th>24</th>\n",
       "      <td>0</td>\n",
       "      <td>@ErikaM12345 Ahh okay, i love that song!    I ...</td>\n",
       "    </tr>\n",
       "    <tr>\n",
       "      <th>25</th>\n",
       "      <td>0</td>\n",
       "      <td>@georgemanning Agility not a big success   He ...</td>\n",
       "    </tr>\n",
       "    <tr>\n",
       "      <th>26</th>\n",
       "      <td>0</td>\n",
       "      <td>it's dark</td>\n",
       "    </tr>\n",
       "    <tr>\n",
       "      <th>27</th>\n",
       "      <td>0</td>\n",
       "      <td>@susanreynolds ... Or, &amp;quot;Those halcyon day...</td>\n",
       "    </tr>\n",
       "    <tr>\n",
       "      <th>28</th>\n",
       "      <td>0</td>\n",
       "      <td>@RK_24 Oh thank god...I think I died a little ...</td>\n",
       "    </tr>\n",
       "    <tr>\n",
       "      <th>29</th>\n",
       "      <td>0</td>\n",
       "      <td>@heathertcb why did u cut me out of the pic fo...</td>\n",
       "    </tr>\n",
       "    <tr>\n",
       "      <th>30</th>\n",
       "      <td>0</td>\n",
       "      <td>ugh AsHley G. she'z goinG off. . .iM sad</td>\n",
       "    </tr>\n",
       "    <tr>\n",
       "      <th>31</th>\n",
       "      <td>0</td>\n",
       "      <td>Yikes, supposed to bring couple of dishes to f...</td>\n",
       "    </tr>\n",
       "    <tr>\n",
       "      <th>32</th>\n",
       "      <td>0</td>\n",
       "      <td>-what happens when you purchase a cheap ring a...</td>\n",
       "    </tr>\n",
       "    <tr>\n",
       "      <th>33</th>\n",
       "      <td>0</td>\n",
       "      <td>@AliC66 NOT GOING  no friends x</td>\n",
       "    </tr>\n",
       "  </tbody>\n",
       "</table>\n",
       "</div>"
      ],
      "text/plain": [
       "    Label                                               text\n",
       "0       0  im sooo sick today...so no emery concert tonight \n",
       "1       0  @Freebies4Mom I haven't been able to access it...\n",
       "2       0                                  won't losing you \n",
       "3       0  @GeminiTwisted I can't eat egg whites like @Da...\n",
       "4       0                  At Home Writers Block Has Set In \n",
       "5       0  Burnt myself on my old friend the mini spring ...\n",
       "6       0  @tommcfly http://twitpic.com/64l1e - wow thats...\n",
       "7       0  @seneca That's a crying shame.  I never liked ...\n",
       "8       0  @kreatture there are a few in Halifax... Ex-na...\n",
       "9       0  Sstill happy but my feet REALLY hurt. Wish I h...\n",
       "10      0  We are a lil under 11 hrs away from OTH's seas...\n",
       "11      0  I just got new pants today . . . I just spille...\n",
       "12      0  @luke not getting enough sleep and letting emo...\n",
       "13      0  @nnorafiza @Phee78 Just read your tweets about...\n",
       "14      0  @JamieOber Now you know, that's not what I wan...\n",
       "15      0  @hazelcullen it went awful my monologues went ...\n",
       "16      0  said goodbye to the Baha'is tonight     One go...\n",
       "17      0  @celebrian then you, vanessa, and chelsea stol...\n",
       "18      0  is looking for her friend Kassi....where are y...\n",
       "19      0  we may not be able to get hoodies!  Someone ju...\n",
       "20      0  I woke up this morning having made a miraculou...\n",
       "21      0  @helga_hansen That's the problem with &quot;my...\n",
       "22      0           so sleepy waiting for the iphone update \n",
       "23      0  @bridgers I'd love to visit you, but my car di...\n",
       "24      0  @ErikaM12345 Ahh okay, i love that song!    I ...\n",
       "25      0  @georgemanning Agility not a big success   He ...\n",
       "26      0                                         it's dark \n",
       "27      0  @susanreynolds ... Or, &quot;Those halcyon day...\n",
       "28      0  @RK_24 Oh thank god...I think I died a little ...\n",
       "29      0  @heathertcb why did u cut me out of the pic fo...\n",
       "30      0          ugh AsHley G. she'z goinG off. . .iM sad \n",
       "31      0  Yikes, supposed to bring couple of dishes to f...\n",
       "32      0  -what happens when you purchase a cheap ring a...\n",
       "33      0                    @AliC66 NOT GOING  no friends x"
      ]
     },
     "execution_count": 121,
     "metadata": {},
     "output_type": "execute_result"
    }
   ],
   "source": [
    "df"
   ]
  },
  {
   "cell_type": "code",
   "execution_count": 122,
   "id": "2595ce53",
   "metadata": {},
   "outputs": [
    {
     "data": {
      "text/plain": [
       "0     im sooo sick today...so no emery concert tonight \n",
       "1     @Freebies4Mom I haven't been able to access it...\n",
       "2                                     won't losing you \n",
       "3     @GeminiTwisted I can't eat egg whites like @Da...\n",
       "4                     At Home Writers Block Has Set In \n",
       "5     Burnt myself on my old friend the mini spring ...\n",
       "6     @tommcfly http://twitpic.com/64l1e - wow thats...\n",
       "7     @seneca That's a crying shame.  I never liked ...\n",
       "8     @kreatture there are a few in Halifax... Ex-na...\n",
       "9     Sstill happy but my feet REALLY hurt. Wish I h...\n",
       "10    We are a lil under 11 hrs away from OTH's seas...\n",
       "11    I just got new pants today . . . I just spille...\n",
       "12    @luke not getting enough sleep and letting emo...\n",
       "13    @nnorafiza @Phee78 Just read your tweets about...\n",
       "14    @JamieOber Now you know, that's not what I wan...\n",
       "15    @hazelcullen it went awful my monologues went ...\n",
       "16    said goodbye to the Baha'is tonight     One go...\n",
       "17    @celebrian then you, vanessa, and chelsea stol...\n",
       "18    is looking for her friend Kassi....where are y...\n",
       "19    we may not be able to get hoodies!  Someone ju...\n",
       "20    I woke up this morning having made a miraculou...\n",
       "21    @helga_hansen That's the problem with &quot;my...\n",
       "22             so sleepy waiting for the iphone update \n",
       "23    @bridgers I'd love to visit you, but my car di...\n",
       "24    @ErikaM12345 Ahh okay, i love that song!    I ...\n",
       "25    @georgemanning Agility not a big success   He ...\n",
       "26                                           it's dark \n",
       "27    @susanreynolds ... Or, &quot;Those halcyon day...\n",
       "28    @RK_24 Oh thank god...I think I died a little ...\n",
       "29    @heathertcb why did u cut me out of the pic fo...\n",
       "30            ugh AsHley G. she'z goinG off. . .iM sad \n",
       "31    Yikes, supposed to bring couple of dishes to f...\n",
       "32    -what happens when you purchase a cheap ring a...\n",
       "33                      @AliC66 NOT GOING  no friends x\n",
       "Name: text, dtype: object"
      ]
     },
     "execution_count": 122,
     "metadata": {},
     "output_type": "execute_result"
    }
   ],
   "source": [
    "df[\"text\"]"
   ]
  },
  {
   "cell_type": "code",
   "execution_count": 124,
   "id": "4b646515",
   "metadata": {},
   "outputs": [
    {
     "data": {
      "text/plain": [
       "0     im sooo sick today   so no emery concert tonight \n",
       "1      Freebies Mom I haven t been able to access it...\n",
       "2                                     won t losing you \n",
       "3      GeminiTwisted I can t eat egg whites like  Da...\n",
       "4                     At Home Writers Block Has Set In \n",
       "5     Burnt myself on my old friend the mini spring ...\n",
       "6      tommcfly http   twitpic com   l e   wow thats...\n",
       "7      seneca That s a crying shame   I never liked ...\n",
       "8      kreatture there are a few in Halifax    Ex na...\n",
       "9     Sstill happy but my feet REALLY hurt  Wish I h...\n",
       "10    We are a lil under    hrs away from OTH s seas...\n",
       "11    I just got new pants today       I just spille...\n",
       "12     luke not getting enough sleep and letting emo...\n",
       "13     nnorafiza  Phee   Just read your tweets about...\n",
       "14     JamieOber Now you know  that s not what I wan...\n",
       "15     hazelcullen it went awful my monologues went ...\n",
       "16    said goodbye to the Baha is tonight     One go...\n",
       "17     celebrian then you  vanessa  and chelsea stol...\n",
       "18    is looking for her friend Kassi    where are y...\n",
       "19    we may not be able to get hoodies   Someone ju...\n",
       "20    I woke up this morning having made a miraculou...\n",
       "21     helga hansen That s the problem with  quot my...\n",
       "22             so sleepy waiting for the iphone update \n",
       "23     bridgers I d love to visit you  but my car di...\n",
       "24     ErikaM      Ahh okay  i love that song     I ...\n",
       "25     georgemanning Agility not a big success   He ...\n",
       "26                                           it s dark \n",
       "27     susanreynolds     Or   quot Those halcyon day...\n",
       "28     RK    Oh thank god   I think I died a little ...\n",
       "29     heathertcb why did u cut me out of the pic fo...\n",
       "30            ugh AsHley G  she z goinG off     iM sad \n",
       "31    Yikes  supposed to bring couple of dishes to f...\n",
       "32     what happens when you purchase a cheap ring a...\n",
       "33                       AliC   NOT GOING  no friends x\n",
       "Name: text, dtype: object"
      ]
     },
     "execution_count": 124,
     "metadata": {},
     "output_type": "execute_result"
    }
   ],
   "source": [
    "#Data Cleaning using Regex\n",
    "\n",
    "df[\"text\"].replace(\"[^a-zA-Z]\",\" \",regex=True)"
   ]
  },
  {
   "cell_type": "code",
   "execution_count": null,
   "id": "1735e98f",
   "metadata": {},
   "outputs": [],
   "source": []
  }
 ],
 "metadata": {
  "kernelspec": {
   "display_name": "Python 3 (ipykernel)",
   "language": "python",
   "name": "python3"
  },
  "language_info": {
   "codemirror_mode": {
    "name": "ipython",
    "version": 3
   },
   "file_extension": ".py",
   "mimetype": "text/x-python",
   "name": "python",
   "nbconvert_exporter": "python",
   "pygments_lexer": "ipython3",
   "version": "3.9.13"
  }
 },
 "nbformat": 4,
 "nbformat_minor": 5
}
